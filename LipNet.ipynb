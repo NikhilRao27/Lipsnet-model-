{
  "cells": [
    {
      "cell_type": "markdown",
      "id": "a3573a47-3689-4668-b62f-5c8451b2b4e9",
      "metadata": {
        "id": "a3573a47-3689-4668-b62f-5c8451b2b4e9"
      },
      "source": [
        "# 0. Install and Import Dependencies"
      ]
    },
    {
      "cell_type": "markdown",
      "source": [
        "To check Python packages and their versions in the current environment we used below command."
      ],
      "metadata": {
        "id": "7ADXXhPvum25"
      },
      "id": "7ADXXhPvum25"
    },
    {
      "cell_type": "code",
      "execution_count": 1,
      "id": "ddfbccbe-41ae-4c23-98b1-a13868e2b499",
      "metadata": {
        "id": "ddfbccbe-41ae-4c23-98b1-a13868e2b499",
        "scrolled": true,
        "colab": {
          "base_uri": "https://localhost:8080/"
        },
        "outputId": "602b6489-8478-42b8-f372-242fe80d3c81"
      },
      "outputs": [
        {
          "output_type": "stream",
          "name": "stdout",
          "text": [
            "Package                          Version\n",
            "-------------------------------- ---------------------\n",
            "absl-py                          1.4.0\n",
            "aiohttp                          3.8.6\n",
            "aiosignal                        1.3.1\n",
            "alabaster                        0.7.13\n",
            "albumentations                   1.3.1\n",
            "altair                           4.2.2\n",
            "anyio                            3.7.1\n",
            "appdirs                          1.4.4\n",
            "argon2-cffi                      23.1.0\n",
            "argon2-cffi-bindings             21.2.0\n",
            "array-record                     0.5.0\n",
            "arviz                            0.15.1\n",
            "astropy                          5.3.4\n",
            "astunparse                       1.6.3\n",
            "async-timeout                    4.0.3\n",
            "atpublic                         4.0\n",
            "attrs                            23.1.0\n",
            "audioread                        3.0.1\n",
            "autograd                         1.6.2\n",
            "Babel                            2.13.1\n",
            "backcall                         0.2.0\n",
            "beautifulsoup4                   4.11.2\n",
            "bidict                           0.22.1\n",
            "bigframes                        0.13.0\n",
            "bleach                           6.1.0\n",
            "blinker                          1.4\n",
            "blis                             0.7.11\n",
            "blosc2                           2.0.0\n",
            "bokeh                            3.3.1\n",
            "bqplot                           0.12.42\n",
            "branca                           0.7.0\n",
            "build                            1.0.3\n",
            "CacheControl                     0.13.1\n",
            "cachetools                       5.3.2\n",
            "catalogue                        2.0.10\n",
            "certifi                          2023.7.22\n",
            "cffi                             1.16.0\n",
            "chardet                          5.2.0\n",
            "charset-normalizer               3.3.2\n",
            "chex                             0.1.7\n",
            "click                            8.1.7\n",
            "click-plugins                    1.1.1\n",
            "cligj                            0.7.2\n",
            "cloudpickle                      2.2.1\n",
            "cmake                            3.27.7\n",
            "cmdstanpy                        1.2.0\n",
            "colorcet                         3.0.1\n",
            "colorlover                       0.3.0\n",
            "colour                           0.1.5\n",
            "community                        1.0.0b1\n",
            "confection                       0.1.3\n",
            "cons                             0.4.6\n",
            "contextlib2                      21.6.0\n",
            "contourpy                        1.2.0\n",
            "cryptography                     41.0.5\n",
            "cufflinks                        0.17.3\n",
            "cupy-cuda11x                     11.0.0\n",
            "cvxopt                           1.3.2\n",
            "cvxpy                            1.3.2\n",
            "cycler                           0.12.1\n",
            "cymem                            2.0.8\n",
            "Cython                           3.0.5\n",
            "dask                             2023.8.1\n",
            "datascience                      0.17.6\n",
            "db-dtypes                        1.1.1\n",
            "dbus-python                      1.2.18\n",
            "debugpy                          1.6.6\n",
            "decorator                        4.4.2\n",
            "defusedxml                       0.7.1\n",
            "diskcache                        5.6.3\n",
            "distributed                      2023.8.1\n",
            "distro                           1.7.0\n",
            "dlib                             19.24.2\n",
            "dm-tree                          0.1.8\n",
            "docutils                         0.18.1\n",
            "dopamine-rl                      4.0.6\n",
            "duckdb                           0.9.2\n",
            "earthengine-api                  0.1.379\n",
            "easydict                         1.11\n",
            "ecos                             2.0.12\n",
            "editdistance                     0.6.2\n",
            "eerepr                           0.0.4\n",
            "en-core-web-sm                   3.6.0\n",
            "entrypoints                      0.4\n",
            "et-xmlfile                       1.1.0\n",
            "etils                            1.5.2\n",
            "etuples                          0.3.9\n",
            "exceptiongroup                   1.1.3\n",
            "fastai                           2.7.13\n",
            "fastcore                         1.5.29\n",
            "fastdownload                     0.0.7\n",
            "fastjsonschema                   2.19.0\n",
            "fastprogress                     1.0.3\n",
            "fastrlock                        0.8.2\n",
            "filelock                         3.13.1\n",
            "fiona                            1.9.5\n",
            "firebase-admin                   5.3.0\n",
            "Flask                            2.2.5\n",
            "flatbuffers                      23.5.26\n",
            "flax                             0.7.5\n",
            "folium                           0.14.0\n",
            "fonttools                        4.44.3\n",
            "frozendict                       2.3.8\n",
            "frozenlist                       1.4.0\n",
            "fsspec                           2023.6.0\n",
            "future                           0.18.3\n",
            "gast                             0.5.4\n",
            "gcsfs                            2023.6.0\n",
            "GDAL                             3.4.3\n",
            "gdown                            4.6.6\n",
            "geemap                           0.28.2\n",
            "gensim                           4.3.2\n",
            "geocoder                         1.38.1\n",
            "geographiclib                    2.0\n",
            "geopandas                        0.13.2\n",
            "geopy                            2.3.0\n",
            "gin-config                       0.5.0\n",
            "glob2                            0.7\n",
            "google                           2.0.3\n",
            "google-api-core                  2.11.1\n",
            "google-api-python-client         2.84.0\n",
            "google-auth                      2.17.3\n",
            "google-auth-httplib2             0.1.1\n",
            "google-auth-oauthlib             1.0.0\n",
            "google-cloud-bigquery            3.12.0\n",
            "google-cloud-bigquery-connection 1.12.1\n",
            "google-cloud-bigquery-storage    2.22.0\n",
            "google-cloud-core                2.3.3\n",
            "google-cloud-datastore           2.15.2\n",
            "google-cloud-firestore           2.11.1\n",
            "google-cloud-functions           1.13.3\n",
            "google-cloud-iam                 2.12.2\n",
            "google-cloud-language            2.9.1\n",
            "google-cloud-resource-manager    1.10.4\n",
            "google-cloud-storage             2.8.0\n",
            "google-cloud-translate           3.11.3\n",
            "google-colab                     1.0.0\n",
            "google-crc32c                    1.5.0\n",
            "google-pasta                     0.2.0\n",
            "google-resumable-media           2.6.0\n",
            "googleapis-common-protos         1.61.0\n",
            "googledrivedownloader            0.4\n",
            "graphviz                         0.20.1\n",
            "greenlet                         3.0.1\n",
            "grpc-google-iam-v1               0.12.7\n",
            "grpcio                           1.59.2\n",
            "grpcio-status                    1.48.2\n",
            "gspread                          3.4.2\n",
            "gspread-dataframe                3.3.1\n",
            "gym                              0.25.2\n",
            "gym-notices                      0.0.8\n",
            "h5netcdf                         1.3.0\n",
            "h5py                             3.9.0\n",
            "holidays                         0.36\n",
            "holoviews                        1.17.1\n",
            "html5lib                         1.1\n",
            "httpimport                       1.3.1\n",
            "httplib2                         0.22.0\n",
            "huggingface-hub                  0.19.3\n",
            "humanize                         4.7.0\n",
            "hyperopt                         0.2.7\n",
            "ibis-framework                   6.2.0\n",
            "idna                             3.4\n",
            "imageio                          2.31.6\n",
            "imageio-ffmpeg                   0.4.9\n",
            "imagesize                        1.4.1\n",
            "imbalanced-learn                 0.10.1\n",
            "imgaug                           0.4.0\n",
            "importlib-metadata               6.8.0\n",
            "importlib-resources              6.1.1\n",
            "imutils                          0.5.4\n",
            "inflect                          7.0.0\n",
            "iniconfig                        2.0.0\n",
            "install                          1.3.5\n",
            "intel-openmp                     2023.2.0\n",
            "ipyevents                        2.0.2\n",
            "ipyfilechooser                   0.6.0\n",
            "ipykernel                        5.5.6\n",
            "ipyleaflet                       0.17.4\n",
            "ipython                          7.34.0\n",
            "ipython-genutils                 0.2.0\n",
            "ipython-sql                      0.5.0\n",
            "ipytree                          0.2.2\n",
            "ipywidgets                       7.7.1\n",
            "itsdangerous                     2.1.2\n",
            "jax                              0.4.20\n",
            "jaxlib                           0.4.20+cuda11.cudnn86\n",
            "jeepney                          0.7.1\n",
            "jieba                            0.42.1\n",
            "Jinja2                           3.1.2\n",
            "joblib                           1.3.2\n",
            "jsonpickle                       3.0.2\n",
            "jsonschema                       4.19.2\n",
            "jsonschema-specifications        2023.11.1\n",
            "jupyter-client                   6.1.12\n",
            "jupyter-console                  6.1.0\n",
            "jupyter_core                     5.5.0\n",
            "jupyter-server                   1.24.0\n",
            "jupyterlab-pygments              0.2.2\n",
            "jupyterlab-widgets               3.0.9\n",
            "kaggle                           1.5.16\n",
            "keras                            2.14.0\n",
            "keyring                          23.5.0\n",
            "kiwisolver                       1.4.5\n",
            "langcodes                        3.3.0\n",
            "launchpadlib                     1.10.16\n",
            "lazr.restfulclient               0.14.4\n",
            "lazr.uri                         1.0.6\n",
            "lazy_loader                      0.3\n",
            "libclang                         16.0.6\n",
            "librosa                          0.10.1\n",
            "lida                             0.0.10\n",
            "lightgbm                         4.1.0\n",
            "linkify-it-py                    2.0.2\n",
            "llmx                             0.0.15a0\n",
            "llvmlite                         0.41.1\n",
            "locket                           1.0.0\n",
            "logical-unification              0.4.6\n",
            "lxml                             4.9.3\n",
            "malloy                           2023.1064\n",
            "Markdown                         3.5.1\n",
            "markdown-it-py                   3.0.0\n",
            "MarkupSafe                       2.1.3\n",
            "matplotlib                       3.7.1\n",
            "matplotlib-inline                0.1.6\n",
            "matplotlib-venn                  0.11.9\n",
            "mdit-py-plugins                  0.4.0\n",
            "mdurl                            0.1.2\n",
            "miniKanren                       1.0.3\n",
            "missingno                        0.5.2\n",
            "mistune                          0.8.4\n",
            "mizani                           0.9.3\n",
            "mkl                              2023.2.0\n",
            "ml-dtypes                        0.2.0\n",
            "mlxtend                          0.22.0\n",
            "more-itertools                   10.1.0\n",
            "moviepy                          1.0.3\n",
            "mpmath                           1.3.0\n",
            "msgpack                          1.0.7\n",
            "multidict                        6.0.4\n",
            "multipledispatch                 1.0.0\n",
            "multitasking                     0.0.11\n",
            "murmurhash                       1.0.10\n",
            "music21                          9.1.0\n",
            "natsort                          8.4.0\n",
            "nbclassic                        1.0.0\n",
            "nbclient                         0.9.0\n",
            "nbconvert                        6.5.4\n",
            "nbformat                         5.9.2\n",
            "nest-asyncio                     1.5.8\n",
            "networkx                         3.2.1\n",
            "nibabel                          4.0.2\n",
            "nltk                             3.8.1\n",
            "notebook                         6.5.5\n",
            "notebook_shim                    0.2.3\n",
            "numba                            0.58.1\n",
            "numexpr                          2.8.7\n",
            "numpy                            1.23.5\n",
            "oauth2client                     4.1.3\n",
            "oauthlib                         3.2.2\n",
            "opencv-contrib-python            4.8.0.76\n",
            "opencv-python                    4.8.0.76\n",
            "opencv-python-headless           4.8.1.78\n",
            "openpyxl                         3.1.2\n",
            "opt-einsum                       3.3.0\n",
            "optax                            0.1.7\n",
            "orbax-checkpoint                 0.4.2\n",
            "osqp                             0.6.2.post8\n",
            "packaging                        23.2\n",
            "pandas                           1.5.3\n",
            "pandas-datareader                0.10.0\n",
            "pandas-gbq                       0.17.9\n",
            "pandas-stubs                     1.5.3.230304\n",
            "pandocfilters                    1.5.0\n",
            "panel                            1.3.1\n",
            "param                            2.0.1\n",
            "parso                            0.8.3\n",
            "parsy                            2.1\n",
            "partd                            1.4.1\n",
            "pathlib                          1.0.1\n",
            "pathy                            0.10.3\n",
            "patsy                            0.5.3\n",
            "peewee                           3.17.0\n",
            "pexpect                          4.8.0\n",
            "pickleshare                      0.7.5\n",
            "Pillow                           9.4.0\n",
            "pip                              23.1.2\n",
            "pip-tools                        6.13.0\n",
            "platformdirs                     4.0.0\n",
            "plotly                           5.15.0\n",
            "plotnine                         0.12.4\n",
            "pluggy                           1.3.0\n",
            "polars                           0.17.3\n",
            "pooch                            1.8.0\n",
            "portpicker                       1.5.2\n",
            "prefetch-generator               1.0.3\n",
            "preshed                          3.0.9\n",
            "prettytable                      3.9.0\n",
            "proglog                          0.1.10\n",
            "progressbar2                     4.2.0\n",
            "prometheus-client                0.18.0\n",
            "promise                          2.3\n",
            "prompt-toolkit                   3.0.41\n",
            "prophet                          1.1.5\n",
            "proto-plus                       1.22.3\n",
            "protobuf                         3.20.3\n",
            "psutil                           5.9.5\n",
            "psycopg2                         2.9.9\n",
            "ptyprocess                       0.7.0\n",
            "py-cpuinfo                       9.0.0\n",
            "py4j                             0.10.9.7\n",
            "pyarrow                          9.0.0\n",
            "pyasn1                           0.5.0\n",
            "pyasn1-modules                   0.3.0\n",
            "pycocotools                      2.0.7\n",
            "pycparser                        2.21\n",
            "pyct                             0.5.0\n",
            "pydantic                         1.10.13\n",
            "pydata-google-auth               1.8.2\n",
            "pydot                            1.4.2\n",
            "pydot-ng                         2.0.0\n",
            "pydotplus                        2.0.2\n",
            "PyDrive                          1.3.1\n",
            "PyDrive2                         1.6.3\n",
            "pyerfa                           2.0.1.1\n",
            "pygame                           2.5.2\n",
            "Pygments                         2.16.1\n",
            "PyGObject                        3.42.1\n",
            "PyJWT                            2.3.0\n",
            "pymc                             5.7.2\n",
            "pymystem3                        0.2.0\n",
            "PyOpenGL                         3.1.7\n",
            "pyOpenSSL                        23.3.0\n",
            "pyparsing                        3.1.1\n",
            "pyperclip                        1.8.2\n",
            "pyproj                           3.6.1\n",
            "pyproject_hooks                  1.0.0\n",
            "pyshp                            2.3.1\n",
            "PySocks                          1.7.1\n",
            "pytensor                         2.14.2\n",
            "pytest                           7.4.3\n",
            "python-apt                       0.0.0\n",
            "python-box                       7.1.1\n",
            "python-dateutil                  2.8.2\n",
            "python-louvain                   0.16\n",
            "python-slugify                   8.0.1\n",
            "python-utils                     3.8.1\n",
            "pytz                             2023.3.post1\n",
            "pyviz_comms                      3.0.0\n",
            "PyWavelets                       1.4.1\n",
            "PyYAML                           6.0.1\n",
            "pyzmq                            23.2.1\n",
            "qdldl                            0.1.7.post0\n",
            "qudida                           0.0.4\n",
            "ratelim                          0.1.6\n",
            "referencing                      0.31.0\n",
            "regex                            2023.6.3\n",
            "requests                         2.31.0\n",
            "requests-oauthlib                1.3.1\n",
            "requirements-parser              0.5.0\n",
            "rich                             13.7.0\n",
            "rpds-py                          0.12.0\n",
            "rpy2                             3.4.2\n",
            "rsa                              4.9\n",
            "safetensors                      0.4.0\n",
            "scikit-image                     0.19.3\n",
            "scikit-learn                     1.2.2\n",
            "scipy                            1.11.3\n",
            "scooby                           0.9.2\n",
            "scs                              3.2.4\n",
            "seaborn                          0.12.2\n",
            "SecretStorage                    3.3.1\n",
            "Send2Trash                       1.8.2\n",
            "setuptools                       67.7.2\n",
            "shapely                          2.0.2\n",
            "six                              1.16.0\n",
            "sklearn-pandas                   2.2.0\n",
            "smart-open                       6.4.0\n",
            "sniffio                          1.3.0\n",
            "snowballstemmer                  2.2.0\n",
            "sortedcontainers                 2.4.0\n",
            "soundfile                        0.12.1\n",
            "soupsieve                        2.5\n",
            "soxr                             0.3.7\n",
            "spacy                            3.6.1\n",
            "spacy-legacy                     3.0.12\n",
            "spacy-loggers                    1.0.5\n",
            "Sphinx                           5.0.2\n",
            "sphinxcontrib-applehelp          1.0.7\n",
            "sphinxcontrib-devhelp            1.0.5\n",
            "sphinxcontrib-htmlhelp           2.0.4\n",
            "sphinxcontrib-jsmath             1.0.1\n",
            "sphinxcontrib-qthelp             1.0.6\n",
            "sphinxcontrib-serializinghtml    1.1.9\n",
            "SQLAlchemy                       2.0.23\n",
            "sqlglot                          17.16.2\n",
            "sqlparse                         0.4.4\n",
            "srsly                            2.4.8\n",
            "stanio                           0.3.0\n",
            "statsmodels                      0.14.0\n",
            "sympy                            1.12\n",
            "tables                           3.8.0\n",
            "tabulate                         0.9.0\n",
            "tbb                              2021.11.0\n",
            "tblib                            3.0.0\n",
            "tenacity                         8.2.3\n",
            "tensorboard                      2.14.1\n",
            "tensorboard-data-server          0.7.2\n",
            "tensorflow                       2.14.0\n",
            "tensorflow-datasets              4.9.3\n",
            "tensorflow-estimator             2.14.0\n",
            "tensorflow-gcs-config            2.14.0\n",
            "tensorflow-hub                   0.15.0\n",
            "tensorflow-io-gcs-filesystem     0.34.0\n",
            "tensorflow-metadata              1.14.0\n",
            "tensorflow-probability           0.22.0\n",
            "tensorstore                      0.1.45\n",
            "termcolor                        2.3.0\n",
            "terminado                        0.18.0\n",
            "text-unidecode                   1.3\n",
            "textblob                         0.17.1\n",
            "tf-slim                          1.1.0\n",
            "thinc                            8.1.12\n",
            "threadpoolctl                    3.2.0\n",
            "tifffile                         2023.9.26\n",
            "tinycss2                         1.2.1\n",
            "tokenizers                       0.15.0\n",
            "toml                             0.10.2\n",
            "tomli                            2.0.1\n",
            "toolz                            0.12.0\n",
            "torch                            2.1.0+cu118\n",
            "torchaudio                       2.1.0+cu118\n",
            "torchdata                        0.7.0\n",
            "torchsummary                     1.5.1\n",
            "torchtext                        0.16.0\n",
            "torchvision                      0.16.0+cu118\n",
            "tornado                          6.3.2\n",
            "tqdm                             4.66.1\n",
            "traitlets                        5.7.1\n",
            "traittypes                       0.2.1\n",
            "transformers                     4.35.2\n",
            "triton                           2.1.0\n",
            "tweepy                           4.14.0\n",
            "typer                            0.9.0\n",
            "types-pytz                       2023.3.1.1\n",
            "types-setuptools                 68.2.0.1\n",
            "typing_extensions                4.5.0\n",
            "tzlocal                          5.2\n",
            "uc-micro-py                      1.0.2\n",
            "uritemplate                      4.1.1\n",
            "urllib3                          2.0.7\n",
            "vega-datasets                    0.9.0\n",
            "wadllib                          1.3.6\n",
            "wasabi                           1.1.2\n",
            "wcwidth                          0.2.10\n",
            "webcolors                        1.13\n",
            "webencodings                     0.5.1\n",
            "websocket-client                 1.6.4\n",
            "Werkzeug                         3.0.1\n",
            "wheel                            0.41.3\n",
            "widgetsnbextension               3.6.6\n",
            "wordcloud                        1.9.2\n",
            "wrapt                            1.14.1\n",
            "xarray                           2023.7.0\n",
            "xarray-einstats                  0.6.0\n",
            "xgboost                          2.0.2\n",
            "xlrd                             2.0.1\n",
            "xxhash                           3.4.1\n",
            "xyzservices                      2023.10.1\n",
            "yarl                             1.9.2\n",
            "yellowbrick                      1.5\n",
            "yfinance                         0.2.31\n",
            "zict                             3.0.0\n",
            "zipp                             3.17.0\n"
          ]
        }
      ],
      "source": [
        "!pip list"
      ]
    },
    {
      "cell_type": "markdown",
      "source": [
        "- Computer vision tasks - opencv\n",
        "- Data visualization - Matplotlib\n",
        "- Image input/output - imageio\n",
        "- Downloading files from Google drive - gdown\n",
        "- Deep Learning - Tensorflow."
      ],
      "metadata": {
        "id": "jU2Dw41ruqwP"
      },
      "id": "jU2Dw41ruqwP"
    },
    {
      "cell_type": "code",
      "execution_count": 2,
      "id": "02f907ea-f669-46c7-adcf-7f257e663448",
      "metadata": {
        "id": "02f907ea-f669-46c7-adcf-7f257e663448",
        "colab": {
          "base_uri": "https://localhost:8080/"
        },
        "outputId": "4ab0be18-f494-41fe-b626-920bcc472672"
      },
      "outputs": [
        {
          "output_type": "stream",
          "name": "stdout",
          "text": [
            "Requirement already satisfied: opencv-python in /usr/local/lib/python3.10/dist-packages (4.8.0.76)\n",
            "Requirement already satisfied: matplotlib in /usr/local/lib/python3.10/dist-packages (3.7.1)\n",
            "Requirement already satisfied: imageio in /usr/local/lib/python3.10/dist-packages (2.31.6)\n",
            "Requirement already satisfied: gdown in /usr/local/lib/python3.10/dist-packages (4.6.6)\n",
            "Requirement already satisfied: tensorflow in /usr/local/lib/python3.10/dist-packages (2.14.0)\n",
            "Requirement already satisfied: numpy>=1.21.2 in /usr/local/lib/python3.10/dist-packages (from opencv-python) (1.23.5)\n",
            "Requirement already satisfied: contourpy>=1.0.1 in /usr/local/lib/python3.10/dist-packages (from matplotlib) (1.2.0)\n",
            "Requirement already satisfied: cycler>=0.10 in /usr/local/lib/python3.10/dist-packages (from matplotlib) (0.12.1)\n",
            "Requirement already satisfied: fonttools>=4.22.0 in /usr/local/lib/python3.10/dist-packages (from matplotlib) (4.44.3)\n",
            "Requirement already satisfied: kiwisolver>=1.0.1 in /usr/local/lib/python3.10/dist-packages (from matplotlib) (1.4.5)\n",
            "Requirement already satisfied: packaging>=20.0 in /usr/local/lib/python3.10/dist-packages (from matplotlib) (23.2)\n",
            "Requirement already satisfied: pillow>=6.2.0 in /usr/local/lib/python3.10/dist-packages (from matplotlib) (9.4.0)\n",
            "Requirement already satisfied: pyparsing>=2.3.1 in /usr/local/lib/python3.10/dist-packages (from matplotlib) (3.1.1)\n",
            "Requirement already satisfied: python-dateutil>=2.7 in /usr/local/lib/python3.10/dist-packages (from matplotlib) (2.8.2)\n",
            "Requirement already satisfied: filelock in /usr/local/lib/python3.10/dist-packages (from gdown) (3.13.1)\n",
            "Requirement already satisfied: requests[socks] in /usr/local/lib/python3.10/dist-packages (from gdown) (2.31.0)\n",
            "Requirement already satisfied: six in /usr/local/lib/python3.10/dist-packages (from gdown) (1.16.0)\n",
            "Requirement already satisfied: tqdm in /usr/local/lib/python3.10/dist-packages (from gdown) (4.66.1)\n",
            "Requirement already satisfied: beautifulsoup4 in /usr/local/lib/python3.10/dist-packages (from gdown) (4.11.2)\n",
            "Requirement already satisfied: absl-py>=1.0.0 in /usr/local/lib/python3.10/dist-packages (from tensorflow) (1.4.0)\n",
            "Requirement already satisfied: astunparse>=1.6.0 in /usr/local/lib/python3.10/dist-packages (from tensorflow) (1.6.3)\n",
            "Requirement already satisfied: flatbuffers>=23.5.26 in /usr/local/lib/python3.10/dist-packages (from tensorflow) (23.5.26)\n",
            "Requirement already satisfied: gast!=0.5.0,!=0.5.1,!=0.5.2,>=0.2.1 in /usr/local/lib/python3.10/dist-packages (from tensorflow) (0.5.4)\n",
            "Requirement already satisfied: google-pasta>=0.1.1 in /usr/local/lib/python3.10/dist-packages (from tensorflow) (0.2.0)\n",
            "Requirement already satisfied: h5py>=2.9.0 in /usr/local/lib/python3.10/dist-packages (from tensorflow) (3.9.0)\n",
            "Requirement already satisfied: libclang>=13.0.0 in /usr/local/lib/python3.10/dist-packages (from tensorflow) (16.0.6)\n",
            "Requirement already satisfied: ml-dtypes==0.2.0 in /usr/local/lib/python3.10/dist-packages (from tensorflow) (0.2.0)\n",
            "Requirement already satisfied: opt-einsum>=2.3.2 in /usr/local/lib/python3.10/dist-packages (from tensorflow) (3.3.0)\n",
            "Requirement already satisfied: protobuf!=4.21.0,!=4.21.1,!=4.21.2,!=4.21.3,!=4.21.4,!=4.21.5,<5.0.0dev,>=3.20.3 in /usr/local/lib/python3.10/dist-packages (from tensorflow) (3.20.3)\n",
            "Requirement already satisfied: setuptools in /usr/local/lib/python3.10/dist-packages (from tensorflow) (67.7.2)\n",
            "Requirement already satisfied: termcolor>=1.1.0 in /usr/local/lib/python3.10/dist-packages (from tensorflow) (2.3.0)\n",
            "Requirement already satisfied: typing-extensions>=3.6.6 in /usr/local/lib/python3.10/dist-packages (from tensorflow) (4.5.0)\n",
            "Requirement already satisfied: wrapt<1.15,>=1.11.0 in /usr/local/lib/python3.10/dist-packages (from tensorflow) (1.14.1)\n",
            "Requirement already satisfied: tensorflow-io-gcs-filesystem>=0.23.1 in /usr/local/lib/python3.10/dist-packages (from tensorflow) (0.34.0)\n",
            "Requirement already satisfied: grpcio<2.0,>=1.24.3 in /usr/local/lib/python3.10/dist-packages (from tensorflow) (1.59.2)\n",
            "Requirement already satisfied: tensorboard<2.15,>=2.14 in /usr/local/lib/python3.10/dist-packages (from tensorflow) (2.14.1)\n",
            "Requirement already satisfied: tensorflow-estimator<2.15,>=2.14.0 in /usr/local/lib/python3.10/dist-packages (from tensorflow) (2.14.0)\n",
            "Requirement already satisfied: keras<2.15,>=2.14.0 in /usr/local/lib/python3.10/dist-packages (from tensorflow) (2.14.0)\n",
            "Requirement already satisfied: wheel<1.0,>=0.23.0 in /usr/local/lib/python3.10/dist-packages (from astunparse>=1.6.0->tensorflow) (0.41.3)\n",
            "Requirement already satisfied: google-auth<3,>=1.6.3 in /usr/local/lib/python3.10/dist-packages (from tensorboard<2.15,>=2.14->tensorflow) (2.17.3)\n",
            "Requirement already satisfied: google-auth-oauthlib<1.1,>=0.5 in /usr/local/lib/python3.10/dist-packages (from tensorboard<2.15,>=2.14->tensorflow) (1.0.0)\n",
            "Requirement already satisfied: markdown>=2.6.8 in /usr/local/lib/python3.10/dist-packages (from tensorboard<2.15,>=2.14->tensorflow) (3.5.1)\n",
            "Requirement already satisfied: tensorboard-data-server<0.8.0,>=0.7.0 in /usr/local/lib/python3.10/dist-packages (from tensorboard<2.15,>=2.14->tensorflow) (0.7.2)\n",
            "Requirement already satisfied: werkzeug>=1.0.1 in /usr/local/lib/python3.10/dist-packages (from tensorboard<2.15,>=2.14->tensorflow) (3.0.1)\n",
            "Requirement already satisfied: soupsieve>1.2 in /usr/local/lib/python3.10/dist-packages (from beautifulsoup4->gdown) (2.5)\n",
            "Requirement already satisfied: charset-normalizer<4,>=2 in /usr/local/lib/python3.10/dist-packages (from requests[socks]->gdown) (3.3.2)\n",
            "Requirement already satisfied: idna<4,>=2.5 in /usr/local/lib/python3.10/dist-packages (from requests[socks]->gdown) (3.4)\n",
            "Requirement already satisfied: urllib3<3,>=1.21.1 in /usr/local/lib/python3.10/dist-packages (from requests[socks]->gdown) (2.0.7)\n",
            "Requirement already satisfied: certifi>=2017.4.17 in /usr/local/lib/python3.10/dist-packages (from requests[socks]->gdown) (2023.7.22)\n",
            "Requirement already satisfied: PySocks!=1.5.7,>=1.5.6 in /usr/local/lib/python3.10/dist-packages (from requests[socks]->gdown) (1.7.1)\n",
            "Requirement already satisfied: cachetools<6.0,>=2.0.0 in /usr/local/lib/python3.10/dist-packages (from google-auth<3,>=1.6.3->tensorboard<2.15,>=2.14->tensorflow) (5.3.2)\n",
            "Requirement already satisfied: pyasn1-modules>=0.2.1 in /usr/local/lib/python3.10/dist-packages (from google-auth<3,>=1.6.3->tensorboard<2.15,>=2.14->tensorflow) (0.3.0)\n",
            "Requirement already satisfied: rsa<5,>=3.1.4 in /usr/local/lib/python3.10/dist-packages (from google-auth<3,>=1.6.3->tensorboard<2.15,>=2.14->tensorflow) (4.9)\n",
            "Requirement already satisfied: requests-oauthlib>=0.7.0 in /usr/local/lib/python3.10/dist-packages (from google-auth-oauthlib<1.1,>=0.5->tensorboard<2.15,>=2.14->tensorflow) (1.3.1)\n",
            "Requirement already satisfied: MarkupSafe>=2.1.1 in /usr/local/lib/python3.10/dist-packages (from werkzeug>=1.0.1->tensorboard<2.15,>=2.14->tensorflow) (2.1.3)\n",
            "Requirement already satisfied: pyasn1<0.6.0,>=0.4.6 in /usr/local/lib/python3.10/dist-packages (from pyasn1-modules>=0.2.1->google-auth<3,>=1.6.3->tensorboard<2.15,>=2.14->tensorflow) (0.5.0)\n",
            "Requirement already satisfied: oauthlib>=3.0.0 in /usr/local/lib/python3.10/dist-packages (from requests-oauthlib>=0.7.0->google-auth-oauthlib<1.1,>=0.5->tensorboard<2.15,>=2.14->tensorflow) (3.2.2)\n"
          ]
        }
      ],
      "source": [
        "!pip install opencv-python matplotlib imageio gdown tensorflow"
      ]
    },
    {
      "cell_type": "markdown",
      "source": [
        "1. Opencv\n",
        "- Open Source Computer Vision(opencv) is a library which provides tools for computer vision and image processing tasks.\n",
        "- It includes a variety of functions for tasks like image and video manipulation, object detection, and feature extraction.\n",
        "2. matplotlib: Matplotlib is used for visualization\n",
        "\n",
        "3. imageio: used to interface to read & write images in various formats & used for handling image input and output operations.\n",
        "\n",
        "4. gdown: Used to download files from google drive.\n",
        "\n",
        "5. tensorflow: It is open-source machine learning framework used for building and training machine learning models like deep neural networks."
      ],
      "metadata": {
        "id": "6dDZdVXPuz6g"
      },
      "id": "6dDZdVXPuz6g"
    },
    {
      "cell_type": "code",
      "execution_count": 3,
      "id": "b24af50c-20b8-409d-ad78-30a933fdd669",
      "metadata": {
        "id": "b24af50c-20b8-409d-ad78-30a933fdd669"
      },
      "outputs": [],
      "source": [
        "import os\n",
        "import cv2\n",
        "import tensorflow as tf\n",
        "import numpy as np\n",
        "from typing import List\n",
        "from matplotlib import pyplot as plt\n",
        "import imageio"
      ]
    },
    {
      "cell_type": "markdown",
      "source": [
        "Before starting to load data, lets check the GPU devices availability within the TensorFlow configuration system, which is crucial for optimizing deep learning tasks that can benefit from GPU Acceleration"
      ],
      "metadata": {
        "id": "U_qnC-9Nu4dI"
      },
      "id": "U_qnC-9Nu4dI"
    },
    {
      "cell_type": "code",
      "execution_count": 4,
      "id": "1e3db0b0-e559-4ad6-91fd-e7414b7d75e6",
      "metadata": {
        "colab": {
          "base_uri": "https://localhost:8080/"
        },
        "id": "1e3db0b0-e559-4ad6-91fd-e7414b7d75e6",
        "outputId": "640eb344-b539-435c-8a62-ce81db0bbe96"
      },
      "outputs": [
        {
          "output_type": "execute_result",
          "data": {
            "text/plain": [
              "[]"
            ]
          },
          "metadata": {},
          "execution_count": 4
        }
      ],
      "source": [
        "tf.config.list_physical_devices('GPU')"
      ]
    },
    {
      "cell_type": "code",
      "execution_count": 5,
      "id": "378d045a-3003-4f93-b7d2-a25a97774a68",
      "metadata": {
        "id": "378d045a-3003-4f93-b7d2-a25a97774a68"
      },
      "outputs": [],
      "source": [
        "physical_devices = tf.config.list_physical_devices('GPU')\n",
        "try:\n",
        "    tf.config.experimental.set_memory_growth(physical_devices[0], True)\n",
        "except:\n",
        "    pass"
      ]
    },
    {
      "cell_type": "markdown",
      "id": "7a19e88e-c7b9-45c1-ae1e-f2109329c71b",
      "metadata": {
        "id": "7a19e88e-c7b9-45c1-ae1e-f2109329c71b"
      },
      "source": [
        "# 1. Build Data Loading Functions"
      ]
    },
    {
      "cell_type": "code",
      "execution_count": 6,
      "id": "8fb99c90-e05a-437f-839d-6e772f8c1dd5",
      "metadata": {
        "id": "8fb99c90-e05a-437f-839d-6e772f8c1dd5"
      },
      "outputs": [],
      "source": [
        "import gdown"
      ]
    },
    {
      "cell_type": "code",
      "execution_count": 8,
      "id": "c019e4c6-2af3-4160-99ea-5c8cb009f1a7",
      "metadata": {
        "id": "c019e4c6-2af3-4160-99ea-5c8cb009f1a7",
        "colab": {
          "base_uri": "https://localhost:8080/"
        },
        "outputId": "5b36fded-140a-444c-9fdf-34c557b02837"
      },
      "outputs": [
        {
          "output_type": "stream",
          "name": "stderr",
          "text": [
            "Downloading...\n",
            "From: https://drive.google.com/uc?id=1YlvpDLix3S-U8fd-gqRwPcWXAXm8JwjL\n",
            "To: /content/data.zip\n",
            "100%|██████████| 423M/423M [00:06<00:00, 64.6MB/s]\n"
          ]
        },
        {
          "output_type": "execute_result",
          "data": {
            "text/plain": [
              "['data/',\n",
              " 'data/alignments/',\n",
              " 'data/alignments/s1/',\n",
              " 'data/alignments/s1/bbaf2n.align',\n",
              " 'data/alignments/s1/bbaf3s.align',\n",
              " 'data/alignments/s1/bbaf4p.align',\n",
              " 'data/alignments/s1/bbaf5a.align',\n",
              " 'data/alignments/s1/bbal6n.align',\n",
              " 'data/alignments/s1/bbal7s.align',\n",
              " 'data/alignments/s1/bbal8p.align',\n",
              " 'data/alignments/s1/bbal9a.align',\n",
              " 'data/alignments/s1/bbas1s.align',\n",
              " 'data/alignments/s1/bbas2p.align',\n",
              " 'data/alignments/s1/bbas3a.align',\n",
              " 'data/alignments/s1/bbaszn.align',\n",
              " 'data/alignments/s1/bbaz4n.align',\n",
              " 'data/alignments/s1/bbaz5s.align',\n",
              " 'data/alignments/s1/bbaz6p.align',\n",
              " 'data/alignments/s1/bbaz7a.align',\n",
              " 'data/alignments/s1/bbbf6n.align',\n",
              " 'data/alignments/s1/bbbf7s.align',\n",
              " 'data/alignments/s1/bbbf8p.align',\n",
              " 'data/alignments/s1/bbbf9a.align',\n",
              " 'data/alignments/s1/bbbm1s.align',\n",
              " 'data/alignments/s1/bbbm2p.align',\n",
              " 'data/alignments/s1/bbbm3a.align',\n",
              " 'data/alignments/s1/bbbmzn.align',\n",
              " 'data/alignments/s1/bbbs4n.align',\n",
              " 'data/alignments/s1/bbbs5s.align',\n",
              " 'data/alignments/s1/bbbs6p.align',\n",
              " 'data/alignments/s1/bbbs7a.align',\n",
              " 'data/alignments/s1/bbbz8n.align',\n",
              " 'data/alignments/s1/bbbz9s.align',\n",
              " 'data/alignments/s1/bbie8n.align',\n",
              " 'data/alignments/s1/bbie9s.align',\n",
              " 'data/alignments/s1/bbif1a.align',\n",
              " 'data/alignments/s1/bbifzp.align',\n",
              " 'data/alignments/s1/bbil2n.align',\n",
              " 'data/alignments/s1/bbil3s.align',\n",
              " 'data/alignments/s1/bbil4p.align',\n",
              " 'data/alignments/s1/bbil5a.align',\n",
              " 'data/alignments/s1/bbir6n.align',\n",
              " 'data/alignments/s1/bbir7s.align',\n",
              " 'data/alignments/s1/bbir8p.align',\n",
              " 'data/alignments/s1/bbir9a.align',\n",
              " 'data/alignments/s1/bbiz1s.align',\n",
              " 'data/alignments/s1/bbiz2p.align',\n",
              " 'data/alignments/s1/bbiz3a.align',\n",
              " 'data/alignments/s1/bbizzn.align',\n",
              " 'data/alignments/s1/bbwg1s.align',\n",
              " 'data/alignments/s1/bbwg2p.align',\n",
              " 'data/alignments/s1/bbwg3a.align',\n",
              " 'data/alignments/s1/bbwgzn.align',\n",
              " 'data/alignments/s1/bbwm4n.align',\n",
              " 'data/alignments/s1/bbwm5s.align',\n",
              " 'data/alignments/s1/bbwm6p.align',\n",
              " 'data/alignments/s1/bbwm7a.align',\n",
              " 'data/alignments/s1/bbws8n.align',\n",
              " 'data/alignments/s1/bbws9s.align',\n",
              " 'data/alignments/s1/bbwt1a.align',\n",
              " 'data/alignments/s1/bbwtzp.align',\n",
              " 'data/alignments/s1/bgaa6n.align',\n",
              " 'data/alignments/s1/bgaa7s.align',\n",
              " 'data/alignments/s1/bgaa8p.align',\n",
              " 'data/alignments/s1/bgaa9a.align',\n",
              " 'data/alignments/s1/bgah1s.align',\n",
              " 'data/alignments/s1/bgah2p.align',\n",
              " 'data/alignments/s1/bgah3a.align',\n",
              " 'data/alignments/s1/bgahzn.align',\n",
              " 'data/alignments/s1/bgan4n.align',\n",
              " 'data/alignments/s1/bgan5s.align',\n",
              " 'data/alignments/s1/bgan6p.align',\n",
              " 'data/alignments/s1/bgan7a.align',\n",
              " 'data/alignments/s1/bgat8n.align',\n",
              " 'data/alignments/s1/bgat9s.align',\n",
              " 'data/alignments/s1/bgau1a.align',\n",
              " 'data/alignments/s1/bgauzp.align',\n",
              " 'data/alignments/s1/bgbb1s.align',\n",
              " 'data/alignments/s1/bgbb2p.align',\n",
              " 'data/alignments/s1/bgbb3a.align',\n",
              " 'data/alignments/s1/bgbbzn.align',\n",
              " 'data/alignments/s1/bgbh4n.align',\n",
              " 'data/alignments/s1/bgbh5s.align',\n",
              " 'data/alignments/s1/bgbh6p.align',\n",
              " 'data/alignments/s1/bgbh7a.align',\n",
              " 'data/alignments/s1/bgbn8n.align',\n",
              " 'data/alignments/s1/bgbn9s.align',\n",
              " 'data/alignments/s1/bgbo1a.align',\n",
              " 'data/alignments/s1/bgbozp.align',\n",
              " 'data/alignments/s1/bgbu2n.align',\n",
              " 'data/alignments/s1/bgbu3s.align',\n",
              " 'data/alignments/s1/bgbu4p.align',\n",
              " 'data/alignments/s1/bgbu5a.align',\n",
              " 'data/alignments/s1/bgia2n.align',\n",
              " 'data/alignments/s1/bgia3s.align',\n",
              " 'data/alignments/s1/bgia4p.align',\n",
              " 'data/alignments/s1/bgia5a.align',\n",
              " 'data/alignments/s1/bgig6n.align',\n",
              " 'data/alignments/s1/bgig7s.align',\n",
              " 'data/alignments/s1/bgig8p.align',\n",
              " 'data/alignments/s1/bgig9a.align',\n",
              " 'data/alignments/s1/bgin1s.align',\n",
              " 'data/alignments/s1/bgin2p.align',\n",
              " 'data/alignments/s1/bgin3a.align',\n",
              " 'data/alignments/s1/bginzn.align',\n",
              " 'data/alignments/s1/bgit4n.align',\n",
              " 'data/alignments/s1/bgit5s.align',\n",
              " 'data/alignments/s1/bgit6p.align',\n",
              " 'data/alignments/s1/bgit7a.align',\n",
              " 'data/alignments/s1/bgwb4n.align',\n",
              " 'data/alignments/s1/bgwb5s.align',\n",
              " 'data/alignments/s1/bgwb6p.align',\n",
              " 'data/alignments/s1/bgwb7a.align',\n",
              " 'data/alignments/s1/bgwh8n.align',\n",
              " 'data/alignments/s1/bgwh9s.align',\n",
              " 'data/alignments/s1/bgwi1a.align',\n",
              " 'data/alignments/s1/bgwizp.align',\n",
              " 'data/alignments/s1/bgwo2n.align',\n",
              " 'data/alignments/s1/bgwo3s.align',\n",
              " 'data/alignments/s1/bgwo4p.align',\n",
              " 'data/alignments/s1/bgwo5a.align',\n",
              " 'data/alignments/s1/bgwu6n.align',\n",
              " 'data/alignments/s1/bgwu7s.align',\n",
              " 'data/alignments/s1/bgwu8p.align',\n",
              " 'data/alignments/s1/bgwu9a.align',\n",
              " 'data/alignments/s1/braf8n.align',\n",
              " 'data/alignments/s1/braf9s.align',\n",
              " 'data/alignments/s1/brag1a.align',\n",
              " 'data/alignments/s1/bragzp.align',\n",
              " 'data/alignments/s1/bram2n.align',\n",
              " 'data/alignments/s1/bram3s.align',\n",
              " 'data/alignments/s1/bram4p.align',\n",
              " 'data/alignments/s1/bram5a.align',\n",
              " 'data/alignments/s1/bras6n.align',\n",
              " 'data/alignments/s1/bras7s.align',\n",
              " 'data/alignments/s1/bras8p.align',\n",
              " 'data/alignments/s1/bras9a.align',\n",
              " 'data/alignments/s1/brba1a.align',\n",
              " 'data/alignments/s1/brbazp.align',\n",
              " 'data/alignments/s1/brbg2n.align',\n",
              " 'data/alignments/s1/brbg3s.align',\n",
              " 'data/alignments/s1/brbg4p.align',\n",
              " 'data/alignments/s1/brbg5a.align',\n",
              " 'data/alignments/s1/brbm6n.align',\n",
              " 'data/alignments/s1/brbm7s.align',\n",
              " 'data/alignments/s1/brbm8p.align',\n",
              " 'data/alignments/s1/brbm9a.align',\n",
              " 'data/alignments/s1/brbt1s.align',\n",
              " 'data/alignments/s1/brbt2p.align',\n",
              " 'data/alignments/s1/brbt3a.align',\n",
              " 'data/alignments/s1/brbtzn.align',\n",
              " 'data/alignments/s1/brif4n.align',\n",
              " 'data/alignments/s1/brif5s.align',\n",
              " 'data/alignments/s1/brif6p.align',\n",
              " 'data/alignments/s1/brif7a.align',\n",
              " 'data/alignments/s1/bril8n.align',\n",
              " 'data/alignments/s1/bril9s.align',\n",
              " 'data/alignments/s1/brim1a.align',\n",
              " 'data/alignments/s1/brimzp.align',\n",
              " 'data/alignments/s1/bris2n.align',\n",
              " 'data/alignments/s1/bris3s.align',\n",
              " 'data/alignments/s1/bris4p.align',\n",
              " 'data/alignments/s1/bris5a.align',\n",
              " 'data/alignments/s1/briz6n.align',\n",
              " 'data/alignments/s1/briz7s.align',\n",
              " 'data/alignments/s1/briz8p.align',\n",
              " 'data/alignments/s1/briz9a.align',\n",
              " 'data/alignments/s1/brwa2n.align',\n",
              " 'data/alignments/s1/brwa3s.align',\n",
              " 'data/alignments/s1/brwa4p.align',\n",
              " 'data/alignments/s1/brwa5a.align',\n",
              " 'data/alignments/s1/brwg6n.align',\n",
              " 'data/alignments/s1/brwg7s.align',\n",
              " 'data/alignments/s1/brwg8p.align',\n",
              " 'data/alignments/s1/brwg9a.align',\n",
              " 'data/alignments/s1/brwn1s.align',\n",
              " 'data/alignments/s1/brwn2p.align',\n",
              " 'data/alignments/s1/brwn3a.align',\n",
              " 'data/alignments/s1/brwnzn.align',\n",
              " 'data/alignments/s1/brwt4n.align',\n",
              " 'data/alignments/s1/brwt5s.align',\n",
              " 'data/alignments/s1/brwt6p.align',\n",
              " 'data/alignments/s1/brwt7a.align',\n",
              " 'data/alignments/s1/bwaa1s.align',\n",
              " 'data/alignments/s1/bwaa2p.align',\n",
              " 'data/alignments/s1/bwaa3a.align',\n",
              " 'data/alignments/s1/bwaazn.align',\n",
              " 'data/alignments/s1/bwag4n.align',\n",
              " 'data/alignments/s1/bwag5s.align',\n",
              " 'data/alignments/s1/bwag6p.align',\n",
              " 'data/alignments/s1/bwag7a.align',\n",
              " 'data/alignments/s1/bwam8n.align',\n",
              " 'data/alignments/s1/bwam9s.align',\n",
              " 'data/alignments/s1/bwan1a.align',\n",
              " 'data/alignments/s1/bwanzp.align',\n",
              " 'data/alignments/s1/bwat2n.align',\n",
              " 'data/alignments/s1/bwat3s.align',\n",
              " 'data/alignments/s1/bwat4p.align',\n",
              " 'data/alignments/s1/bwat5a.align',\n",
              " 'data/alignments/s1/bwba4n.align',\n",
              " 'data/alignments/s1/bwba5s.align',\n",
              " 'data/alignments/s1/bwba6p.align',\n",
              " 'data/alignments/s1/bwba7a.align',\n",
              " 'data/alignments/s1/bwbg8n.align',\n",
              " 'data/alignments/s1/bwbg9s.align',\n",
              " 'data/alignments/s1/bwbh1a.align',\n",
              " 'data/alignments/s1/bwbhzp.align',\n",
              " 'data/alignments/s1/bwbn2n.align',\n",
              " 'data/alignments/s1/bwbn3s.align',\n",
              " 'data/alignments/s1/bwbn4p.align',\n",
              " 'data/alignments/s1/bwbn5a.align',\n",
              " 'data/alignments/s1/bwbt6n.align',\n",
              " 'data/alignments/s1/bwbt7s.align',\n",
              " 'data/alignments/s1/bwbt8p.align',\n",
              " 'data/alignments/s1/bwbt9a.align',\n",
              " 'data/alignments/s1/bwig1s.align',\n",
              " 'data/alignments/s1/bwig2p.align',\n",
              " 'data/alignments/s1/bwig3a.align',\n",
              " 'data/alignments/s1/bwigzn.align',\n",
              " 'data/alignments/s1/bwim4n.align',\n",
              " 'data/alignments/s1/bwim5s.align',\n",
              " 'data/alignments/s1/bwim6p.align',\n",
              " 'data/alignments/s1/bwim7a.align',\n",
              " 'data/alignments/s1/bwis8n.align',\n",
              " 'data/alignments/s1/bwis9s.align',\n",
              " 'data/alignments/s1/bwit1a.align',\n",
              " 'data/alignments/s1/bwitzp.align',\n",
              " 'data/alignments/s1/bwwa8n.align',\n",
              " 'data/alignments/s1/bwwa9s.align',\n",
              " 'data/alignments/s1/bwwb1a.align',\n",
              " 'data/alignments/s1/bwwbzp.align',\n",
              " 'data/alignments/s1/bwwh2n.align',\n",
              " 'data/alignments/s1/bwwh3s.align',\n",
              " 'data/alignments/s1/bwwh4p.align',\n",
              " 'data/alignments/s1/bwwh5a.align',\n",
              " 'data/alignments/s1/bwwn6n.align',\n",
              " 'data/alignments/s1/bwwn7s.align',\n",
              " 'data/alignments/s1/bwwn8p.align',\n",
              " 'data/alignments/s1/bwwn9a.align',\n",
              " 'data/alignments/s1/bwwu1s.align',\n",
              " 'data/alignments/s1/bwwu2p.align',\n",
              " 'data/alignments/s1/bwwu3a.align',\n",
              " 'data/alignments/s1/bwwuzn.align',\n",
              " 'data/alignments/s1/lbad6n.align',\n",
              " 'data/alignments/s1/lbad7s.align',\n",
              " 'data/alignments/s1/lbad8p.align',\n",
              " 'data/alignments/s1/lbad9a.align',\n",
              " 'data/alignments/s1/lbak1s.align',\n",
              " 'data/alignments/s1/lbak2p.align',\n",
              " 'data/alignments/s1/lbak3a.align',\n",
              " 'data/alignments/s1/lbakzn.align',\n",
              " 'data/alignments/s1/lbaq4n.align',\n",
              " 'data/alignments/s1/lbaq5s.align',\n",
              " 'data/alignments/s1/lbaq6p.align',\n",
              " 'data/alignments/s1/lbaq7a.align',\n",
              " 'data/alignments/s1/lbax8n.align',\n",
              " 'data/alignments/s1/lbax9s.align',\n",
              " 'data/alignments/s1/lbay1a.align',\n",
              " 'data/alignments/s1/lbayzp.align',\n",
              " 'data/alignments/s1/lbbe1s.align',\n",
              " 'data/alignments/s1/lbbe2p.align',\n",
              " 'data/alignments/s1/lbbe3a.align',\n",
              " 'data/alignments/s1/lbbezn.align',\n",
              " 'data/alignments/s1/lbbk4n.align',\n",
              " 'data/alignments/s1/lbbk5s.align',\n",
              " 'data/alignments/s1/lbbk6p.align',\n",
              " 'data/alignments/s1/lbbk7a.align',\n",
              " 'data/alignments/s1/lbbq8n.align',\n",
              " 'data/alignments/s1/lbbq9s.align',\n",
              " 'data/alignments/s1/lbbr1a.align',\n",
              " 'data/alignments/s1/lbbrzp.align',\n",
              " 'data/alignments/s1/lbby2n.align',\n",
              " 'data/alignments/s1/lbby3s.align',\n",
              " 'data/alignments/s1/lbby4p.align',\n",
              " 'data/alignments/s1/lbby5a.align',\n",
              " 'data/alignments/s1/lbid2n.align',\n",
              " 'data/alignments/s1/lbid3s.align',\n",
              " 'data/alignments/s1/lbid4p.align',\n",
              " 'data/alignments/s1/lbid5a.align',\n",
              " 'data/alignments/s1/lbij6n.align',\n",
              " 'data/alignments/s1/lbij7s.align',\n",
              " 'data/alignments/s1/lbij8p.align',\n",
              " 'data/alignments/s1/lbij9a.align',\n",
              " 'data/alignments/s1/lbiq1s.align',\n",
              " 'data/alignments/s1/lbiq2p.align',\n",
              " 'data/alignments/s1/lbiq3a.align',\n",
              " 'data/alignments/s1/lbiqzn.align',\n",
              " 'data/alignments/s1/lbix4n.align',\n",
              " 'data/alignments/s1/lbix5s.align',\n",
              " 'data/alignments/s1/lbix6p.align',\n",
              " 'data/alignments/s1/lbix7a.align',\n",
              " 'data/alignments/s1/lbwe4n.align',\n",
              " 'data/alignments/s1/lbwe5s.align',\n",
              " 'data/alignments/s1/lbwe6p.align',\n",
              " 'data/alignments/s1/lbwe7a.align',\n",
              " 'data/alignments/s1/lbwk8n.align',\n",
              " 'data/alignments/s1/lbwk9s.align',\n",
              " 'data/alignments/s1/lbwl1a.align',\n",
              " 'data/alignments/s1/lbwlzp.align',\n",
              " 'data/alignments/s1/lbwr2n.align',\n",
              " 'data/alignments/s1/lbwr3s.align',\n",
              " 'data/alignments/s1/lbwr4p.align',\n",
              " 'data/alignments/s1/lbwr5a.align',\n",
              " 'data/alignments/s1/lbwy6n.align',\n",
              " 'data/alignments/s1/lbwy7s.align',\n",
              " 'data/alignments/s1/lbwy8p.align',\n",
              " 'data/alignments/s1/lbwy9a.align',\n",
              " 'data/alignments/s1/lgaf4n.align',\n",
              " 'data/alignments/s1/lgaf5s.align',\n",
              " 'data/alignments/s1/lgaf6p.align',\n",
              " 'data/alignments/s1/lgaf7a.align',\n",
              " 'data/alignments/s1/lgal8n.align',\n",
              " 'data/alignments/s1/lgal9s.align',\n",
              " 'data/alignments/s1/lgam1a.align',\n",
              " 'data/alignments/s1/lgamzp.align',\n",
              " 'data/alignments/s1/lgas2n.align',\n",
              " 'data/alignments/s1/lgas3s.align',\n",
              " 'data/alignments/s1/lgas4p.align',\n",
              " 'data/alignments/s1/lgas5a.align',\n",
              " 'data/alignments/s1/lgaz6n.align',\n",
              " 'data/alignments/s1/lgaz7s.align',\n",
              " 'data/alignments/s1/lgaz8p.align',\n",
              " 'data/alignments/s1/lgaz9a.align',\n",
              " 'data/alignments/s1/lgbf8n.align',\n",
              " 'data/alignments/s1/lgbf9s.align',\n",
              " 'data/alignments/s1/lgbg1a.align',\n",
              " 'data/alignments/s1/lgbgzp.align',\n",
              " 'data/alignments/s1/lgbm2n.align',\n",
              " 'data/alignments/s1/lgbm3s.align',\n",
              " 'data/alignments/s1/lgbm4p.align',\n",
              " 'data/alignments/s1/lgbm5a.align',\n",
              " 'data/alignments/s1/lgbs6n.align',\n",
              " 'data/alignments/s1/lgbs7s.align',\n",
              " 'data/alignments/s1/lgbs8p.align',\n",
              " 'data/alignments/s1/lgbs9a.align',\n",
              " 'data/alignments/s1/lgif1s.align',\n",
              " 'data/alignments/s1/lgif2p.align',\n",
              " 'data/alignments/s1/lgif3a.align',\n",
              " 'data/alignments/s1/lgifzn.align',\n",
              " 'data/alignments/s1/lgil4n.align',\n",
              " 'data/alignments/s1/lgil5s.align',\n",
              " 'data/alignments/s1/lgil6p.align',\n",
              " 'data/alignments/s1/lgil7a.align',\n",
              " 'data/alignments/s1/lgir8n.align',\n",
              " 'data/alignments/s1/lgir9s.align',\n",
              " 'data/alignments/s1/lgis1a.align',\n",
              " 'data/alignments/s1/lgiszp.align',\n",
              " 'data/alignments/s1/lgiz2n.align',\n",
              " 'data/alignments/s1/lgiz3s.align',\n",
              " 'data/alignments/s1/lgiz4p.align',\n",
              " 'data/alignments/s1/lgiz5a.align',\n",
              " 'data/alignments/s1/lgwa1a.align',\n",
              " 'data/alignments/s1/lgwazp.align',\n",
              " 'data/alignments/s1/lgwg2n.align',\n",
              " 'data/alignments/s1/lgwg3s.align',\n",
              " 'data/alignments/s1/lgwg4p.align',\n",
              " 'data/alignments/s1/lgwg5a.align',\n",
              " 'data/alignments/s1/lgwm6n.align',\n",
              " 'data/alignments/s1/lgwm7s.align',\n",
              " 'data/alignments/s1/lgwm8p.align',\n",
              " 'data/alignments/s1/lgwm9a.align',\n",
              " 'data/alignments/s1/lgwt1s.align',\n",
              " 'data/alignments/s1/lgwt2p.align',\n",
              " 'data/alignments/s1/lgwt3a.align',\n",
              " 'data/alignments/s1/lgwtzn.align',\n",
              " 'data/alignments/s1/lrae2n.align',\n",
              " 'data/alignments/s1/lrae3s.align',\n",
              " 'data/alignments/s1/lrae4p.align',\n",
              " 'data/alignments/s1/lrae5a.align',\n",
              " 'data/alignments/s1/lrak6n.align',\n",
              " 'data/alignments/s1/lrak7s.align',\n",
              " 'data/alignments/s1/lrak8p.align',\n",
              " 'data/alignments/s1/lrak9a.align',\n",
              " 'data/alignments/s1/lrar1s.align',\n",
              " 'data/alignments/s1/lrar2p.align',\n",
              " 'data/alignments/s1/lrar3a.align',\n",
              " 'data/alignments/s1/lrarzn.align',\n",
              " 'data/alignments/s1/lray4n.align',\n",
              " 'data/alignments/s1/lray5s.align',\n",
              " 'data/alignments/s1/lray6p.align',\n",
              " 'data/alignments/s1/lray7a.align',\n",
              " 'data/alignments/s1/lrbe6n.align',\n",
              " 'data/alignments/s1/lrbe7s.align',\n",
              " 'data/alignments/s1/lrbe8p.align',\n",
              " 'data/alignments/s1/lrbe9a.align',\n",
              " 'data/alignments/s1/lrbl1s.align',\n",
              " 'data/alignments/s1/lrbl2p.align',\n",
              " 'data/alignments/s1/lrbl3a.align',\n",
              " 'data/alignments/s1/lrblzn.align',\n",
              " 'data/alignments/s1/lrbr4n.align',\n",
              " 'data/alignments/s1/lrbr5s.align',\n",
              " 'data/alignments/s1/lrbr6p.align',\n",
              " 'data/alignments/s1/lrbr7a.align',\n",
              " 'data/alignments/s1/lrby8n.align',\n",
              " 'data/alignments/s1/lrby9s.align',\n",
              " 'data/alignments/s1/lrbz1a.align',\n",
              " 'data/alignments/s1/lrbzzp.align',\n",
              " 'data/alignments/s1/lrid8n.align',\n",
              " 'data/alignments/s1/lrid9s.align',\n",
              " 'data/alignments/s1/lrie1a.align',\n",
              " 'data/alignments/s1/lriezp.align',\n",
              " 'data/alignments/s1/lrik2n.align',\n",
              " 'data/alignments/s1/lrik3s.align',\n",
              " 'data/alignments/s1/lrik4p.align',\n",
              " 'data/alignments/s1/lrik5a.align',\n",
              " 'data/alignments/s1/lriq6n.align',\n",
              " 'data/alignments/s1/lriq7s.align',\n",
              " 'data/alignments/s1/lriq8p.align',\n",
              " 'data/alignments/s1/lriq9a.align',\n",
              " 'data/alignments/s1/lriy1s.align',\n",
              " 'data/alignments/s1/lriy2p.align',\n",
              " 'data/alignments/s1/lriy3a.align',\n",
              " 'data/alignments/s1/lriyzn.align',\n",
              " 'data/alignments/s1/lrwf1s.align',\n",
              " 'data/alignments/s1/lrwf2p.align',\n",
              " 'data/alignments/s1/lrwf3a.align',\n",
              " 'data/alignments/s1/lrwfzn.align',\n",
              " 'data/alignments/s1/lrwl4n.align',\n",
              " 'data/alignments/s1/lrwl5s.align',\n",
              " 'data/alignments/s1/lrwl6p.align',\n",
              " 'data/alignments/s1/lrwl7a.align',\n",
              " 'data/alignments/s1/lrwr8n.align',\n",
              " 'data/alignments/s1/lrwr9s.align',\n",
              " 'data/alignments/s1/lrws1a.align',\n",
              " 'data/alignments/s1/lrwszp.align',\n",
              " 'data/alignments/s1/lrwz2n.align',\n",
              " 'data/alignments/s1/lrwz3s.align',\n",
              " 'data/alignments/s1/lrwz4p.align',\n",
              " 'data/alignments/s1/lrwz5a.align',\n",
              " 'data/alignments/s1/lwae8n.align',\n",
              " 'data/alignments/s1/lwae9s.align',\n",
              " 'data/alignments/s1/lwaf1a.align',\n",
              " 'data/alignments/s1/lwafzp.align',\n",
              " 'data/alignments/s1/lwal2n.align',\n",
              " 'data/alignments/s1/lwal3s.align',\n",
              " 'data/alignments/s1/lwal4p.align',\n",
              " 'data/alignments/s1/lwal5a.align',\n",
              " 'data/alignments/s1/lwar6n.align',\n",
              " 'data/alignments/s1/lwar7s.align',\n",
              " 'data/alignments/s1/lwar8p.align',\n",
              " 'data/alignments/s1/lwar9a.align',\n",
              " 'data/alignments/s1/lwaz1s.align',\n",
              " 'data/alignments/s1/lwaz2p.align',\n",
              " 'data/alignments/s1/lwaz3a.align',\n",
              " 'data/alignments/s1/lwazzn.align',\n",
              " 'data/alignments/s1/lwbf2n.align',\n",
              " 'data/alignments/s1/lwbf3s.align',\n",
              " 'data/alignments/s1/lwbf4p.align',\n",
              " 'data/alignments/s1/lwbf5a.align',\n",
              " 'data/alignments/s1/lwbl6n.align',\n",
              " 'data/alignments/s1/lwbl7s.align',\n",
              " 'data/alignments/s1/lwbl8p.align',\n",
              " 'data/alignments/s1/lwbl9a.align',\n",
              " 'data/alignments/s1/lwbs1s.align',\n",
              " 'data/alignments/s1/lwbs2p.align',\n",
              " 'data/alignments/s1/lwbs3a.align',\n",
              " 'data/alignments/s1/lwbszn.align',\n",
              " 'data/alignments/s1/lwbz4n.align',\n",
              " 'data/alignments/s1/lwbz5s.align',\n",
              " 'data/alignments/s1/lwbz6p.align',\n",
              " 'data/alignments/s1/lwbz7a.align',\n",
              " 'data/alignments/s1/lwie4n.align',\n",
              " 'data/alignments/s1/lwie5s.align',\n",
              " 'data/alignments/s1/lwie6p.align',\n",
              " 'data/alignments/s1/lwie7a.align',\n",
              " 'data/alignments/s1/lwik8n.align',\n",
              " 'data/alignments/s1/lwik9s.align',\n",
              " 'data/alignments/s1/lwil1a.align',\n",
              " 'data/alignments/s1/lwilzp.align',\n",
              " 'data/alignments/s1/lwir2n.align',\n",
              " 'data/alignments/s1/lwir3s.align',\n",
              " 'data/alignments/s1/lwir4p.align',\n",
              " 'data/alignments/s1/lwir5a.align',\n",
              " 'data/alignments/s1/lwiy6n.align',\n",
              " 'data/alignments/s1/lwiy7s.align',\n",
              " 'data/alignments/s1/lwiy8p.align',\n",
              " 'data/alignments/s1/lwiy9a.align',\n",
              " 'data/alignments/s1/lwwf6n.align',\n",
              " 'data/alignments/s1/lwwf7s.align',\n",
              " 'data/alignments/s1/lwwf8p.align',\n",
              " 'data/alignments/s1/lwwf9a.align',\n",
              " 'data/alignments/s1/lwwm1s.align',\n",
              " 'data/alignments/s1/lwwm2p.align',\n",
              " 'data/alignments/s1/lwwm3a.align',\n",
              " 'data/alignments/s1/lwwmzn.align',\n",
              " 'data/alignments/s1/lwws4n.align',\n",
              " 'data/alignments/s1/lwws5s.align',\n",
              " 'data/alignments/s1/lwws6p.align',\n",
              " 'data/alignments/s1/lwws7a.align',\n",
              " 'data/alignments/s1/lwwz8n.align',\n",
              " 'data/alignments/s1/lwwz9s.align',\n",
              " 'data/alignments/s1/pbac1s.align',\n",
              " 'data/alignments/s1/pbac2p.align',\n",
              " 'data/alignments/s1/pbac3a.align',\n",
              " 'data/alignments/s1/pbaczn.align',\n",
              " 'data/alignments/s1/pbai4n.align',\n",
              " 'data/alignments/s1/pbai5s.align',\n",
              " 'data/alignments/s1/pbai6p.align',\n",
              " 'data/alignments/s1/pbai7a.align',\n",
              " 'data/alignments/s1/pbao8n.align',\n",
              " 'data/alignments/s1/pbao9s.align',\n",
              " 'data/alignments/s1/pbap1a.align',\n",
              " 'data/alignments/s1/pbapzp.align',\n",
              " 'data/alignments/s1/pbav2n.align',\n",
              " 'data/alignments/s1/pbav3s.align',\n",
              " 'data/alignments/s1/pbav4p.align',\n",
              " 'data/alignments/s1/pbav5a.align',\n",
              " 'data/alignments/s1/pbbc4n.align',\n",
              " 'data/alignments/s1/pbbc5s.align',\n",
              " 'data/alignments/s1/pbbc6p.align',\n",
              " 'data/alignments/s1/pbbc7a.align',\n",
              " 'data/alignments/s1/pbbi8n.align',\n",
              " 'data/alignments/s1/pbbi9s.align',\n",
              " 'data/alignments/s1/pbbj1a.align',\n",
              " 'data/alignments/s1/pbbjzp.align',\n",
              " 'data/alignments/s1/pbbp2n.align',\n",
              " 'data/alignments/s1/pbbp3s.align',\n",
              " 'data/alignments/s1/pbbp4p.align',\n",
              " 'data/alignments/s1/pbbp5a.align',\n",
              " 'data/alignments/s1/pbbv6n.align',\n",
              " 'data/alignments/s1/pbbv7s.align',\n",
              " 'data/alignments/s1/pbbv8p.align',\n",
              " 'data/alignments/s1/pbbv9a.align',\n",
              " 'data/alignments/s1/pbib6n.align',\n",
              " 'data/alignments/s1/pbib7s.align',\n",
              " 'data/alignments/s1/pbib8p.align',\n",
              " 'data/alignments/s1/pbib9a.align',\n",
              " 'data/alignments/s1/pbii1s.align',\n",
              " 'data/alignments/s1/pbii2p.align',\n",
              " 'data/alignments/s1/pbii3a.align',\n",
              " 'data/alignments/s1/pbiizn.align',\n",
              " 'data/alignments/s1/pbio4n.align',\n",
              " 'data/alignments/s1/pbio5s.align',\n",
              " 'data/alignments/s1/pbio6p.align',\n",
              " 'data/alignments/s1/pbio7a.align',\n",
              " 'data/alignments/s1/pbiu8n.align',\n",
              " 'data/alignments/s1/pbiu9s.align',\n",
              " 'data/alignments/s1/pbiv1a.align',\n",
              " 'data/alignments/s1/pbivzp.align',\n",
              " 'data/alignments/s1/pbwc8n.align',\n",
              " 'data/alignments/s1/pbwc9s.align',\n",
              " 'data/alignments/s1/pbwd1a.align',\n",
              " 'data/alignments/s1/pbwdzp.align',\n",
              " 'data/alignments/s1/pbwj2n.align',\n",
              " 'data/alignments/s1/pbwj3s.align',\n",
              " 'data/alignments/s1/pbwj4p.align',\n",
              " 'data/alignments/s1/pbwj5a.align',\n",
              " 'data/alignments/s1/pbwp6n.align',\n",
              " 'data/alignments/s1/pbwp7s.align',\n",
              " 'data/alignments/s1/pbwp8p.align',\n",
              " 'data/alignments/s1/pbwp9a.align',\n",
              " 'data/alignments/s1/pbwx1s.align',\n",
              " 'data/alignments/s1/pbwx2p.align',\n",
              " 'data/alignments/s1/pbwx3a.align',\n",
              " 'data/alignments/s1/pbwxzn.align',\n",
              " 'data/alignments/s1/pgad8n.align',\n",
              " 'data/alignments/s1/pgad9s.align',\n",
              " 'data/alignments/s1/pgae1a.align',\n",
              " 'data/alignments/s1/pgaezp.align',\n",
              " 'data/alignments/s1/pgak2n.align',\n",
              " 'data/alignments/s1/pgak3s.align',\n",
              " 'data/alignments/s1/pgak4p.align',\n",
              " 'data/alignments/s1/pgak5a.align',\n",
              " 'data/alignments/s1/pgaq6n.align',\n",
              " 'data/alignments/s1/pgaq7s.align',\n",
              " 'data/alignments/s1/pgaq8p.align',\n",
              " 'data/alignments/s1/pgaq9a.align',\n",
              " 'data/alignments/s1/pgay1s.align',\n",
              " 'data/alignments/s1/pgay2p.align',\n",
              " 'data/alignments/s1/pgay3a.align',\n",
              " 'data/alignments/s1/pgayzn.align',\n",
              " 'data/alignments/s1/pgbe2n.align',\n",
              " 'data/alignments/s1/pgbe3s.align',\n",
              " 'data/alignments/s1/pgbe4p.align',\n",
              " 'data/alignments/s1/pgbe5a.align',\n",
              " 'data/alignments/s1/pgbk6n.align',\n",
              " 'data/alignments/s1/pgbk7s.align',\n",
              " 'data/alignments/s1/pgbk8p.align',\n",
              " 'data/alignments/s1/pgbk9a.align',\n",
              " 'data/alignments/s1/pgbr1s.align',\n",
              " 'data/alignments/s1/pgbr2p.align',\n",
              " 'data/alignments/s1/pgbr3a.align',\n",
              " 'data/alignments/s1/pgbrzn.align',\n",
              " 'data/alignments/s1/pgby4n.align',\n",
              " 'data/alignments/s1/pgby5s.align',\n",
              " 'data/alignments/s1/pgby6p.align',\n",
              " 'data/alignments/s1/pgby7a.align',\n",
              " 'data/alignments/s1/pgid4n.align',\n",
              " 'data/alignments/s1/pgid5s.align',\n",
              " 'data/alignments/s1/pgid6p.align',\n",
              " 'data/alignments/s1/pgid7a.align',\n",
              " 'data/alignments/s1/pgij8n.align',\n",
              " 'data/alignments/s1/pgij9s.align',\n",
              " 'data/alignments/s1/pgik1a.align',\n",
              " 'data/alignments/s1/pgikzp.align',\n",
              " 'data/alignments/s1/pgiq2n.align',\n",
              " 'data/alignments/s1/pgiq3s.align',\n",
              " 'data/alignments/s1/pgiq4p.align',\n",
              " 'data/alignments/s1/pgiq5a.align',\n",
              " 'data/alignments/s1/pgix6n.align',\n",
              " 'data/alignments/s1/pgix7s.align',\n",
              " 'data/alignments/s1/pgix8p.align',\n",
              " 'data/alignments/s1/pgix9a.align',\n",
              " 'data/alignments/s1/pgwe6n.align',\n",
              " 'data/alignments/s1/pgwe7s.align',\n",
              " 'data/alignments/s1/pgwe8p.align',\n",
              " 'data/alignments/s1/pgwe9a.align',\n",
              " 'data/alignments/s1/pgwl1s.align',\n",
              " 'data/alignments/s1/pgwl2p.align',\n",
              " 'data/alignments/s1/pgwl3a.align',\n",
              " 'data/alignments/s1/pgwlzn.align',\n",
              " 'data/alignments/s1/pgwr4n.align',\n",
              " 'data/alignments/s1/pgwr5s.align',\n",
              " 'data/alignments/s1/pgwr6p.align',\n",
              " 'data/alignments/s1/pgwr7a.align',\n",
              " 'data/alignments/s1/pgwy8n.align',\n",
              " 'data/alignments/s1/pgwy9s.align',\n",
              " 'data/alignments/s1/pgwz1a.align',\n",
              " 'data/alignments/s1/pgwzzp.align',\n",
              " 'data/alignments/s1/prac6n.align',\n",
              " 'data/alignments/s1/prac7s.align',\n",
              " 'data/alignments/s1/prac8p.align',\n",
              " 'data/alignments/s1/prac9a.align',\n",
              " 'data/alignments/s1/praj1s.align',\n",
              " 'data/alignments/s1/praj2p.align',\n",
              " 'data/alignments/s1/praj3a.align',\n",
              " 'data/alignments/s1/prajzn.align',\n",
              " 'data/alignments/s1/prap4n.align',\n",
              " 'data/alignments/s1/prap5s.align',\n",
              " 'data/alignments/s1/prap6p.align',\n",
              " 'data/alignments/s1/prap7a.align',\n",
              " 'data/alignments/s1/prav8n.align',\n",
              " 'data/alignments/s1/prav9s.align',\n",
              " 'data/alignments/s1/prax1a.align',\n",
              " 'data/alignments/s1/praxzp.align',\n",
              " 'data/alignments/s1/prbd1s.align',\n",
              " 'data/alignments/s1/prbd2p.align',\n",
              " 'data/alignments/s1/prbd3a.align',\n",
              " 'data/alignments/s1/prbdzn.align',\n",
              " 'data/alignments/s1/prbj4n.align',\n",
              " 'data/alignments/s1/prbj5s.align',\n",
              " 'data/alignments/s1/prbj6p.align',\n",
              " 'data/alignments/s1/prbj7a.align',\n",
              " 'data/alignments/s1/prbp8n.align',\n",
              " 'data/alignments/s1/prbp9s.align',\n",
              " 'data/alignments/s1/prbq1a.align',\n",
              " 'data/alignments/s1/prbqzp.align',\n",
              " 'data/alignments/s1/prbx2n.align',\n",
              " 'data/alignments/s1/prbx3s.align',\n",
              " 'data/alignments/s1/prbx4p.align',\n",
              " 'data/alignments/s1/prbx5a.align',\n",
              " 'data/alignments/s1/pric2n.align',\n",
              " 'data/alignments/s1/pric3s.align',\n",
              " 'data/alignments/s1/pric4p.align',\n",
              " 'data/alignments/s1/pric5a.align',\n",
              " 'data/alignments/s1/prii6n.align',\n",
              " 'data/alignments/s1/prii7s.align',\n",
              " 'data/alignments/s1/prii8p.align',\n",
              " 'data/alignments/s1/prii9a.align',\n",
              " 'data/alignments/s1/prip1s.align',\n",
              " 'data/alignments/s1/prip2p.align',\n",
              " 'data/alignments/s1/prip3a.align',\n",
              " 'data/alignments/s1/pripzn.align',\n",
              " 'data/alignments/s1/priv4n.align',\n",
              " 'data/alignments/s1/priv5s.align',\n",
              " 'data/alignments/s1/priv6p.align',\n",
              " 'data/alignments/s1/priv7a.align',\n",
              " 'data/alignments/s1/prwd4n.align',\n",
              " 'data/alignments/s1/prwd5s.align',\n",
              " 'data/alignments/s1/prwd6p.align',\n",
              " 'data/alignments/s1/prwd7a.align',\n",
              " 'data/alignments/s1/prwj8n.align',\n",
              " 'data/alignments/s1/prwj9s.align',\n",
              " 'data/alignments/s1/prwk1a.align',\n",
              " 'data/alignments/s1/prwkzp.align',\n",
              " 'data/alignments/s1/prwq2n.align',\n",
              " 'data/alignments/s1/prwq3s.align',\n",
              " 'data/alignments/s1/prwq4p.align',\n",
              " 'data/alignments/s1/prwq5a.align',\n",
              " 'data/alignments/s1/prwx6n.align',\n",
              " 'data/alignments/s1/prwx7s.align',\n",
              " 'data/alignments/s1/prwx8p.align',\n",
              " 'data/alignments/s1/prwx9a.align',\n",
              " 'data/alignments/s1/pwad2n.align',\n",
              " 'data/alignments/s1/pwad3s.align',\n",
              " 'data/alignments/s1/pwad4p.align',\n",
              " 'data/alignments/s1/pwad5a.align',\n",
              " 'data/alignments/s1/pwaj6n.align',\n",
              " 'data/alignments/s1/pwaj7s.align',\n",
              " 'data/alignments/s1/pwaj8p.align',\n",
              " 'data/alignments/s1/pwaj9a.align',\n",
              " 'data/alignments/s1/pwaq1s.align',\n",
              " 'data/alignments/s1/pwaq2p.align',\n",
              " 'data/alignments/s1/pwaq3a.align',\n",
              " 'data/alignments/s1/pwaqzn.align',\n",
              " 'data/alignments/s1/pwax4n.align',\n",
              " 'data/alignments/s1/pwax5s.align',\n",
              " 'data/alignments/s1/pwax6p.align',\n",
              " 'data/alignments/s1/pwax7a.align',\n",
              " 'data/alignments/s1/pwbd6n.align',\n",
              " 'data/alignments/s1/pwbd7s.align',\n",
              " 'data/alignments/s1/pwbd8p.align',\n",
              " 'data/alignments/s1/pwbd9a.align',\n",
              " 'data/alignments/s1/pwbk1s.align',\n",
              " 'data/alignments/s1/pwbk2p.align',\n",
              " 'data/alignments/s1/pwbk3a.align',\n",
              " 'data/alignments/s1/pwbkzn.align',\n",
              " 'data/alignments/s1/pwbq4n.align',\n",
              " 'data/alignments/s1/pwbq5s.align',\n",
              " 'data/alignments/s1/pwbq6p.align',\n",
              " 'data/alignments/s1/pwbq7a.align',\n",
              " 'data/alignments/s1/pwbx8n.align',\n",
              " 'data/alignments/s1/pwbx9s.align',\n",
              " 'data/alignments/s1/pwby1a.align',\n",
              " 'data/alignments/s1/pwbyzp.align',\n",
              " 'data/alignments/s1/pwic8n.align',\n",
              " 'data/alignments/s1/pwic9s.align',\n",
              " 'data/alignments/s1/pwid1a.align',\n",
              " 'data/alignments/s1/pwidzp.align',\n",
              " 'data/alignments/s1/pwij2n.align',\n",
              " 'data/alignments/s1/pwij3s.align',\n",
              " 'data/alignments/s1/pwij4p.align',\n",
              " 'data/alignments/s1/pwij5a.align',\n",
              " 'data/alignments/s1/pwip6n.align',\n",
              " 'data/alignments/s1/pwip7s.align',\n",
              " 'data/alignments/s1/pwip8p.align',\n",
              " 'data/alignments/s1/pwip9a.align',\n",
              " 'data/alignments/s1/pwix1s.align',\n",
              " 'data/alignments/s1/pwix2p.align',\n",
              " 'data/alignments/s1/pwix3a.align',\n",
              " 'data/alignments/s1/pwixzn.align',\n",
              " 'data/alignments/s1/pwwe1s.align',\n",
              " 'data/alignments/s1/pwwe2p.align',\n",
              " 'data/alignments/s1/pwwe3a.align',\n",
              " 'data/alignments/s1/pwwezn.align',\n",
              " 'data/alignments/s1/pwwk4n.align',\n",
              " 'data/alignments/s1/pwwk5s.align',\n",
              " 'data/alignments/s1/pwwk6p.align',\n",
              " 'data/alignments/s1/pwwk7a.align',\n",
              " 'data/alignments/s1/pwwq8n.align',\n",
              " 'data/alignments/s1/pwwq9s.align',\n",
              " 'data/alignments/s1/pwwr1a.align',\n",
              " 'data/alignments/s1/pwwrzp.align',\n",
              " 'data/alignments/s1/pwwy2n.align',\n",
              " 'data/alignments/s1/pwwy3s.align',\n",
              " 'data/alignments/s1/pwwy4p.align',\n",
              " 'data/alignments/s1/pwwy5a.align',\n",
              " 'data/alignments/s1/sbaa4n.align',\n",
              " 'data/alignments/s1/sbaa5s.align',\n",
              " 'data/alignments/s1/sbaa6p.align',\n",
              " 'data/alignments/s1/sbaa7a.align',\n",
              " 'data/alignments/s1/sbag8n.align',\n",
              " 'data/alignments/s1/sbag9s.align',\n",
              " 'data/alignments/s1/sbah1a.align',\n",
              " 'data/alignments/s1/sbahzp.align',\n",
              " 'data/alignments/s1/sban2n.align',\n",
              " 'data/alignments/s1/sban3s.align',\n",
              " 'data/alignments/s1/sban4p.align',\n",
              " 'data/alignments/s1/sban5a.align',\n",
              " 'data/alignments/s1/sbat6n.align',\n",
              " 'data/alignments/s1/sbat7s.align',\n",
              " 'data/alignments/s1/sbat8p.align',\n",
              " 'data/alignments/s1/sbat9a.align',\n",
              " 'data/alignments/s1/sbba8n.align',\n",
              " 'data/alignments/s1/sbba9s.align',\n",
              " 'data/alignments/s1/sbbb1a.align',\n",
              " 'data/alignments/s1/sbbbzp.align',\n",
              " 'data/alignments/s1/sbbh2n.align',\n",
              " 'data/alignments/s1/sbbh3s.align',\n",
              " 'data/alignments/s1/sbbh4p.align',\n",
              " 'data/alignments/s1/sbbh5a.align',\n",
              " 'data/alignments/s1/sbbn6n.align',\n",
              " 'data/alignments/s1/sbbn7s.align',\n",
              " 'data/alignments/s1/sbbn8p.align',\n",
              " 'data/alignments/s1/sbbn9a.align',\n",
              " 'data/alignments/s1/sbbu1s.align',\n",
              " 'data/alignments/s1/sbbu2p.align',\n",
              " 'data/alignments/s1/sbbu3a.align',\n",
              " 'data/alignments/s1/sbbuzn.align',\n",
              " 'data/alignments/s1/sbia1s.align',\n",
              " 'data/alignments/s1/sbia2p.align',\n",
              " 'data/alignments/s1/sbia3a.align',\n",
              " 'data/alignments/s1/sbiazn.align',\n",
              " 'data/alignments/s1/sbig4n.align',\n",
              " 'data/alignments/s1/sbig5s.align',\n",
              " 'data/alignments/s1/sbig6p.align',\n",
              " 'data/alignments/s1/sbig7a.align',\n",
              " 'data/alignments/s1/sbim8n.align',\n",
              " 'data/alignments/s1/sbim9s.align',\n",
              " 'data/alignments/s1/sbin1a.align',\n",
              " 'data/alignments/s1/sbinzp.align',\n",
              " 'data/alignments/s1/sbit2n.align',\n",
              " 'data/alignments/s1/sbit3s.align',\n",
              " 'data/alignments/s1/sbit4p.align',\n",
              " 'data/alignments/s1/sbit5a.align',\n",
              " 'data/alignments/s1/sbwb2n.align',\n",
              " 'data/alignments/s1/sbwb3s.align',\n",
              " 'data/alignments/s1/sbwb4p.align',\n",
              " 'data/alignments/s1/sbwb5a.align',\n",
              " 'data/alignments/s1/sbwh6n.align',\n",
              " 'data/alignments/s1/sbwh7s.align',\n",
              " 'data/alignments/s1/sbwh8p.align',\n",
              " 'data/alignments/s1/sbwh9a.align',\n",
              " 'data/alignments/s1/sbwo1s.align',\n",
              " 'data/alignments/s1/sbwo2p.align',\n",
              " 'data/alignments/s1/sbwo3a.align',\n",
              " 'data/alignments/s1/sbwozn.align',\n",
              " 'data/alignments/s1/sbwu4n.align',\n",
              " 'data/alignments/s1/sbwu5s.align',\n",
              " 'data/alignments/s1/sbwu6p.align',\n",
              " 'data/alignments/s1/sbwu7a.align',\n",
              " 'data/alignments/s1/sgac2n.align',\n",
              " 'data/alignments/s1/sgac3s.align',\n",
              " 'data/alignments/s1/sgac4p.align',\n",
              " 'data/alignments/s1/sgac5a.align',\n",
              " 'data/alignments/s1/sgai6n.align',\n",
              " 'data/alignments/s1/sgai7s.align',\n",
              " 'data/alignments/s1/sgai8p.align',\n",
              " 'data/alignments/s1/sgai9a.align',\n",
              " 'data/alignments/s1/sgap1s.align',\n",
              " 'data/alignments/s1/sgap2p.align',\n",
              " 'data/alignments/s1/sgap3a.align',\n",
              " 'data/alignments/s1/sgapzn.align',\n",
              " 'data/alignments/s1/sgav4n.align',\n",
              " 'data/alignments/s1/sgav5s.align',\n",
              " 'data/alignments/s1/sgav6p.align',\n",
              " 'data/alignments/s1/sgav7a.align',\n",
              " 'data/alignments/s1/sgbc6n.align',\n",
              " 'data/alignments/s1/sgbc7s.align',\n",
              " 'data/alignments/s1/sgbc8p.align',\n",
              " 'data/alignments/s1/sgbc9a.align',\n",
              " 'data/alignments/s1/sgbj1s.align',\n",
              " 'data/alignments/s1/sgbj2p.align',\n",
              " 'data/alignments/s1/sgbj3a.align',\n",
              " 'data/alignments/s1/sgbjzn.align',\n",
              " 'data/alignments/s1/sgbp4n.align',\n",
              " 'data/alignments/s1/sgbp5s.align',\n",
              " 'data/alignments/s1/sgbp6p.align',\n",
              " 'data/alignments/s1/sgbp7a.align',\n",
              " 'data/alignments/s1/sgbv8n.align',\n",
              " 'data/alignments/s1/sgbv9s.align',\n",
              " 'data/alignments/s1/sgbx1a.align',\n",
              " 'data/alignments/s1/sgbxzp.align',\n",
              " 'data/alignments/s1/sgib8n.align',\n",
              " 'data/alignments/s1/sgib9s.align',\n",
              " 'data/alignments/s1/sgic1a.align',\n",
              " 'data/alignments/s1/sgiczp.align',\n",
              " 'data/alignments/s1/sgii2n.align',\n",
              " 'data/alignments/s1/sgii3s.align',\n",
              " 'data/alignments/s1/sgii4p.align',\n",
              " 'data/alignments/s1/sgii5a.align',\n",
              " 'data/alignments/s1/sgio6n.align',\n",
              " 'data/alignments/s1/sgio7s.align',\n",
              " 'data/alignments/s1/sgio8p.align',\n",
              " 'data/alignments/s1/sgio9a.align',\n",
              " 'data/alignments/s1/sgiv1s.align',\n",
              " 'data/alignments/s1/sgiv2p.align',\n",
              " 'data/alignments/s1/sgiv3a.align',\n",
              " 'data/alignments/s1/sgivzn.align',\n",
              " 'data/alignments/s1/sgwd1s.align',\n",
              " 'data/alignments/s1/sgwd2p.align',\n",
              " 'data/alignments/s1/sgwd3a.align',\n",
              " 'data/alignments/s1/sgwdzn.align',\n",
              " 'data/alignments/s1/sgwj4n.align',\n",
              " 'data/alignments/s1/sgwj5s.align',\n",
              " 'data/alignments/s1/sgwj6p.align',\n",
              " 'data/alignments/s1/sgwj7a.align',\n",
              " 'data/alignments/s1/sgwp8n.align',\n",
              " 'data/alignments/s1/sgwp9s.align',\n",
              " 'data/alignments/s1/sgwq1a.align',\n",
              " 'data/alignments/s1/sgwqzp.align',\n",
              " 'data/alignments/s1/sgwx2n.align',\n",
              " 'data/alignments/s1/sgwx3s.align',\n",
              " 'data/alignments/s1/sgwx4p.align',\n",
              " 'data/alignments/s1/sgwx5a.align',\n",
              " 'data/alignments/s1/srab1s.align',\n",
              " 'data/alignments/s1/srab2p.align',\n",
              " 'data/alignments/s1/srab3a.align',\n",
              " 'data/alignments/s1/srabzn.align',\n",
              " 'data/alignments/s1/srah4n.align',\n",
              " 'data/alignments/s1/srah5s.align',\n",
              " 'data/alignments/s1/srah6p.align',\n",
              " 'data/alignments/s1/srah7a.align',\n",
              " 'data/alignments/s1/sran8n.align',\n",
              " 'data/alignments/s1/sran9s.align',\n",
              " 'data/alignments/s1/srao1a.align',\n",
              " 'data/alignments/s1/sraozp.align',\n",
              " 'data/alignments/s1/srau2n.align',\n",
              " 'data/alignments/s1/srau3s.align',\n",
              " 'data/alignments/s1/srau4p.align',\n",
              " 'data/alignments/s1/srau5a.align',\n",
              " 'data/alignments/s1/srbb4n.align',\n",
              " 'data/alignments/s1/srbb5s.align',\n",
              " 'data/alignments/s1/srbb6p.align',\n",
              " 'data/alignments/s1/srbb7a.align',\n",
              " 'data/alignments/s1/srbh8n.align',\n",
              " 'data/alignments/s1/srbh9s.align',\n",
              " 'data/alignments/s1/srbi1a.align',\n",
              " 'data/alignments/s1/srbizp.align',\n",
              " 'data/alignments/s1/srbo2n.align',\n",
              " 'data/alignments/s1/srbo3s.align',\n",
              " 'data/alignments/s1/srbo4p.align',\n",
              " 'data/alignments/s1/srbo5a.align',\n",
              " 'data/alignments/s1/srbu6n.align',\n",
              " 'data/alignments/s1/srbu7s.align',\n",
              " 'data/alignments/s1/srbu8p.align',\n",
              " 'data/alignments/s1/srbu9a.align',\n",
              " 'data/alignments/s1/sria6n.align',\n",
              " 'data/alignments/s1/sria7s.align',\n",
              " 'data/alignments/s1/sria8p.align',\n",
              " 'data/alignments/s1/sria9a.align',\n",
              " 'data/alignments/s1/srih1s.align',\n",
              " 'data/alignments/s1/srih2p.align',\n",
              " 'data/alignments/s1/srih3a.align',\n",
              " 'data/alignments/s1/srihzn.align',\n",
              " 'data/alignments/s1/srin4n.align',\n",
              " 'data/alignments/s1/srin5s.align',\n",
              " 'data/alignments/s1/srin6p.align',\n",
              " 'data/alignments/s1/srin7a.align',\n",
              " 'data/alignments/s1/srit8n.align',\n",
              " 'data/alignments/s1/srit9s.align',\n",
              " 'data/alignments/s1/sriu1a.align',\n",
              " 'data/alignments/s1/sriuzp.align',\n",
              " 'data/alignments/s1/srwb8n.align',\n",
              " 'data/alignments/s1/srwb9s.align',\n",
              " 'data/alignments/s1/srwc1a.align',\n",
              " 'data/alignments/s1/srwczp.align',\n",
              " 'data/alignments/s1/srwi2n.align',\n",
              " 'data/alignments/s1/srwi3s.align',\n",
              " 'data/alignments/s1/srwi4p.align',\n",
              " 'data/alignments/s1/srwi5a.align',\n",
              " 'data/alignments/s1/srwo6n.align',\n",
              " 'data/alignments/s1/srwo7s.align',\n",
              " 'data/alignments/s1/srwo8p.align',\n",
              " 'data/alignments/s1/srwo9a.align',\n",
              " 'data/alignments/s1/srwv1s.align',\n",
              " 'data/alignments/s1/srwv2p.align',\n",
              " 'data/alignments/s1/srwv3a.align',\n",
              " 'data/alignments/s1/srwvzn.align',\n",
              " 'data/alignments/s1/swab6n.align',\n",
              " 'data/alignments/s1/swab7s.align',\n",
              " 'data/alignments/s1/swab8p.align',\n",
              " 'data/alignments/s1/swab9a.align',\n",
              " 'data/alignments/s1/swai1s.align',\n",
              " 'data/alignments/s1/swai2p.align',\n",
              " 'data/alignments/s1/swai3a.align',\n",
              " 'data/alignments/s1/swaizn.align',\n",
              " 'data/alignments/s1/swao4n.align',\n",
              " 'data/alignments/s1/swao5s.align',\n",
              " 'data/alignments/s1/swao6p.align',\n",
              " 'data/alignments/s1/swao7a.align',\n",
              " 'data/alignments/s1/swau8n.align',\n",
              " 'data/alignments/s1/swau9s.align',\n",
              " 'data/alignments/s1/swav1a.align',\n",
              " 'data/alignments/s1/swavzp.align',\n",
              " 'data/alignments/s1/swbc1s.align',\n",
              " 'data/alignments/s1/swbc2p.align',\n",
              " 'data/alignments/s1/swbc3a.align',\n",
              " 'data/alignments/s1/swbczn.align',\n",
              " 'data/alignments/s1/swbi4n.align',\n",
              " 'data/alignments/s1/swbi5s.align',\n",
              " 'data/alignments/s1/swbi6p.align',\n",
              " 'data/alignments/s1/swbi7a.align',\n",
              " 'data/alignments/s1/swbo8n.align',\n",
              " 'data/alignments/s1/swbo9s.align',\n",
              " 'data/alignments/s1/swbp1a.align',\n",
              " 'data/alignments/s1/swbpzp.align',\n",
              " 'data/alignments/s1/swbv2n.align',\n",
              " 'data/alignments/s1/swbv3s.align',\n",
              " 'data/alignments/s1/swbv4p.align',\n",
              " 'data/alignments/s1/swbv5a.align',\n",
              " 'data/alignments/s1/swib2n.align',\n",
              " 'data/alignments/s1/swib3s.align',\n",
              " 'data/alignments/s1/swib4p.align',\n",
              " 'data/alignments/s1/swib5a.align',\n",
              " 'data/alignments/s1/swih6n.align',\n",
              " 'data/alignments/s1/swih7s.align',\n",
              " 'data/alignments/s1/swih8p.align',\n",
              " 'data/alignments/s1/swih9a.align',\n",
              " 'data/alignments/s1/swio1s.align',\n",
              " 'data/alignments/s1/swio2p.align',\n",
              " 'data/alignments/s1/swio3a.align',\n",
              " 'data/alignments/s1/swiozn.align',\n",
              " 'data/alignments/s1/swiu4n.align',\n",
              " 'data/alignments/s1/swiu5s.align',\n",
              " 'data/alignments/s1/swiu6p.align',\n",
              " 'data/alignments/s1/swiu7a.align',\n",
              " 'data/alignments/s1/swwc4n.align',\n",
              " 'data/alignments/s1/swwc5s.align',\n",
              " 'data/alignments/s1/swwc6p.align',\n",
              " 'data/alignments/s1/swwc7a.align',\n",
              " 'data/alignments/s1/swwi8n.align',\n",
              " 'data/alignments/s1/swwi9s.align',\n",
              " 'data/alignments/s1/swwj1a.align',\n",
              " 'data/alignments/s1/swwjzp.align',\n",
              " 'data/alignments/s1/swwp2n.align',\n",
              " 'data/alignments/s1/swwp3s.align',\n",
              " 'data/alignments/s1/swwp4p.align',\n",
              " 'data/alignments/s1/swwp5a.align',\n",
              " 'data/alignments/s1/swwv6n.align',\n",
              " ...]"
            ]
          },
          "metadata": {},
          "execution_count": 8
        }
      ],
      "source": [
        "url = 'https://drive.google.com/uc?id=1YlvpDLix3S-U8fd-gqRwPcWXAXm8JwjL'\n",
        "output = 'data.zip'\n",
        "gdown.download(url, output, quiet=False)\n",
        "gdown.extractall('data.zip')"
      ]
    },
    {
      "cell_type": "markdown",
      "source": [
        "Here, we loaded a video and the it is processes each frame, converts each frame into grayscale and extracting a region of interest.\n",
        "\n",
        "The frames are normalized by substracting the mean and dividing by the standard deviation before being returned as a TensorFlow."
      ],
      "metadata": {
        "id": "AdT6bCK1vC2E"
      },
      "id": "AdT6bCK1vC2E"
    },
    {
      "cell_type": "code",
      "execution_count": 7,
      "id": "8548cc59-6dfc-4acc-abc3-3e65212db02e",
      "metadata": {
        "id": "8548cc59-6dfc-4acc-abc3-3e65212db02e"
      },
      "outputs": [],
      "source": [
        "def load_video(path:str) -> List[float]:\n",
        "\n",
        "    cap = cv2.VideoCapture(path)\n",
        "    frames = []\n",
        "    for _ in range(int(cap.get(cv2.CAP_PROP_FRAME_COUNT))):\n",
        "        ret, frame = cap.read()\n",
        "        frame = tf.image.rgb_to_grayscale(frame)\n",
        "        frames.append(frame[190:236,80:220,:])\n",
        "    cap.release()\n",
        "\n",
        "    mean = tf.math.reduce_mean(frames)\n",
        "    std = tf.math.reduce_std(tf.cast(frames, tf.float32))\n",
        "    return tf.cast((frames - mean), tf.float32) / std"
      ]
    },
    {
      "cell_type": "markdown",
      "source": [
        "A list is created to represent vocabulary for future text in the extracted data from the videos."
      ],
      "metadata": {
        "id": "OOJavGVzvFiV"
      },
      "id": "OOJavGVzvFiV"
    },
    {
      "cell_type": "code",
      "execution_count": 8,
      "id": "ec735e0b-ec98-4eb0-8f49-c35527d6670a",
      "metadata": {
        "id": "ec735e0b-ec98-4eb0-8f49-c35527d6670a"
      },
      "outputs": [],
      "source": [
        "vocab = [x for x in \"abcdefghijklmnopqrstuvwxyz'?!123456789 \"]"
      ]
    },
    {
      "cell_type": "markdown",
      "source": [
        "Here we defined two Tensorflow StringLookup layers, 'char_to_num' & 'num_to_char', for mapping characters to numerical indices and vice versa.\n",
        "\n",
        "This vocabulary is based on the 'vocab' list in the above."
      ],
      "metadata": {
        "id": "gL9z9ot7vHwa"
      },
      "id": "gL9z9ot7vHwa"
    },
    {
      "cell_type": "code",
      "execution_count": 9,
      "id": "be04e972-d7a5-4a72-82d8-a6bdde1f3ce6",
      "metadata": {
        "colab": {
          "base_uri": "https://localhost:8080/"
        },
        "id": "be04e972-d7a5-4a72-82d8-a6bdde1f3ce6",
        "outputId": "53987383-65d4-4aac-da87-0b2ccf8dbd73"
      },
      "outputs": [
        {
          "output_type": "stream",
          "name": "stdout",
          "text": [
            "The vocabulary is: ['', 'a', 'b', 'c', 'd', 'e', 'f', 'g', 'h', 'i', 'j', 'k', 'l', 'm', 'n', 'o', 'p', 'q', 'r', 's', 't', 'u', 'v', 'w', 'x', 'y', 'z', \"'\", '?', '!', '1', '2', '3', '4', '5', '6', '7', '8', '9', ' '] (size =40)\n"
          ]
        }
      ],
      "source": [
        "char_to_num = tf.keras.layers.StringLookup(vocabulary=vocab, oov_token=\"\")\n",
        "num_to_char = tf.keras.layers.StringLookup(\n",
        "    vocabulary=char_to_num.get_vocabulary(), oov_token=\"\", invert=True\n",
        ")\n",
        "\n",
        "print(\n",
        "    f\"The vocabulary is: {char_to_num.get_vocabulary()} \"\n",
        "    f\"(size ={char_to_num.vocabulary_size()})\"\n",
        ")"
      ]
    },
    {
      "cell_type": "markdown",
      "source": [
        "Here, this returns a list of unique characters that the layer has been configured to map to numerical indices."
      ],
      "metadata": {
        "id": "CWd_cy-dvNvt"
      },
      "id": "CWd_cy-dvNvt"
    },
    {
      "cell_type": "code",
      "execution_count": 10,
      "id": "559f7420-6802-45fa-9ca0-b1ff209b461c",
      "metadata": {
        "id": "559f7420-6802-45fa-9ca0-b1ff209b461c",
        "colab": {
          "base_uri": "https://localhost:8080/"
        },
        "outputId": "1a527ff6-271d-4bc8-a4b1-f174b46aefd5"
      },
      "outputs": [
        {
          "output_type": "execute_result",
          "data": {
            "text/plain": [
              "['',\n",
              " 'a',\n",
              " 'b',\n",
              " 'c',\n",
              " 'd',\n",
              " 'e',\n",
              " 'f',\n",
              " 'g',\n",
              " 'h',\n",
              " 'i',\n",
              " 'j',\n",
              " 'k',\n",
              " 'l',\n",
              " 'm',\n",
              " 'n',\n",
              " 'o',\n",
              " 'p',\n",
              " 'q',\n",
              " 'r',\n",
              " 's',\n",
              " 't',\n",
              " 'u',\n",
              " 'v',\n",
              " 'w',\n",
              " 'x',\n",
              " 'y',\n",
              " 'z',\n",
              " \"'\",\n",
              " '?',\n",
              " '!',\n",
              " '1',\n",
              " '2',\n",
              " '3',\n",
              " '4',\n",
              " '5',\n",
              " '6',\n",
              " '7',\n",
              " '8',\n",
              " '9',\n",
              " ' ']"
            ]
          },
          "metadata": {},
          "execution_count": 10
        }
      ],
      "source": [
        "char_to_num.get_vocabulary()"
      ]
    },
    {
      "cell_type": "code",
      "execution_count": 11,
      "id": "797ff78b-b48f-4e14-bb62-8cd0ebf9501a",
      "metadata": {
        "colab": {
          "base_uri": "https://localhost:8080/"
        },
        "id": "797ff78b-b48f-4e14-bb62-8cd0ebf9501a",
        "outputId": "42902a9a-4613-4e2a-f51d-3ff651fad35f"
      },
      "outputs": [
        {
          "output_type": "execute_result",
          "data": {
            "text/plain": [
              "<tf.Tensor: shape=(4,), dtype=int64, numpy=array([14,  9,  3, 11])>"
            ]
          },
          "metadata": {},
          "execution_count": 11
        }
      ],
      "source": [
        "char_to_num(['n','i','c','k'])"
      ]
    },
    {
      "cell_type": "code",
      "execution_count": 12,
      "id": "8cd7f4f4-ae77-4509-a4f4-c723787ebad1",
      "metadata": {
        "colab": {
          "base_uri": "https://localhost:8080/"
        },
        "id": "8cd7f4f4-ae77-4509-a4f4-c723787ebad1",
        "outputId": "3a403bf6-abf4-4e98-9b8b-3dfc24bf0e33"
      },
      "outputs": [
        {
          "output_type": "execute_result",
          "data": {
            "text/plain": [
              "<tf.Tensor: shape=(4,), dtype=string, numpy=array([b'n', b'i', b'c', b'k'], dtype=object)>"
            ]
          },
          "metadata": {},
          "execution_count": 12
        }
      ],
      "source": [
        "num_to_char([14,  9,  3, 11])"
      ]
    },
    {
      "cell_type": "markdown",
      "source": [
        "Here, 'load_alignments', used to read lines from file then extract the tokens, converts them to their corresponding numerical index using char_to_num StringLookuo layer.\n",
        "\n",
        "The resulting list of numerical index is returned excluding the first element in the list.\n",
        "\n",
        "Overall, the function is designed to process alignments data and converts it into a format suitable for further analysis in comming steps."
      ],
      "metadata": {
        "id": "unYTZ0mvvRJo"
      },
      "id": "unYTZ0mvvRJo"
    },
    {
      "cell_type": "code",
      "execution_count": 13,
      "id": "9491bab5-6a3c-4f79-879a-8f9fbe73ae2e",
      "metadata": {
        "id": "9491bab5-6a3c-4f79-879a-8f9fbe73ae2e"
      },
      "outputs": [],
      "source": [
        "def load_alignments(path:str) -> List[str]:\n",
        "    with open(path, 'r') as f:\n",
        "        lines = f.readlines()\n",
        "    tokens = []\n",
        "    for line in lines:\n",
        "        line = line.split()\n",
        "        if line[2] != 'sil':\n",
        "            tokens = [*tokens,' ',line[2]]\n",
        "    return char_to_num(tf.reshape(tf.strings.unicode_split(tokens, input_encoding='UTF-8'), (-1)))[1:]"
      ]
    },
    {
      "cell_type": "markdown",
      "source": [
        "load_data function, takes the file path as input and then it decodes it, extracts the file name, and constructs paths for corresponding video and alignment files.\n",
        "\n",
        "It then processes the video frames and alignments. Finally, it returns a tuple for further data analysis."
      ],
      "metadata": {
        "id": "m_AvntUrvUDB"
      },
      "id": "m_AvntUrvUDB"
    },
    {
      "cell_type": "code",
      "execution_count": 24,
      "id": "dd01ca9f-77fb-4643-a2aa-47dd82c5d66b",
      "metadata": {
        "id": "dd01ca9f-77fb-4643-a2aa-47dd82c5d66b"
      },
      "outputs": [],
      "source": [
        "def load_data(path: str):\n",
        "    path = bytes.decode(path.numpy())\n",
        "    #file_name = path.split('\\\\')[-1].split('.')[0]\n",
        "    # File name splitting for windows\n",
        "    file_name = path.split('/')[-1].split('.')[0]\n",
        "    video_path = os.path.join('data','s1',f'{file_name}.mpg')\n",
        "    alignment_path = os.path.join('data','alignments','s1',f'{file_name}.align')\n",
        "    frames = load_video(video_path)\n",
        "    alignments = load_alignments(alignment_path)\n",
        "\n",
        "    return frames, alignments"
      ]
    },
    {
      "cell_type": "markdown",
      "source": [
        "Taking a video file for testing"
      ],
      "metadata": {
        "id": "C4uvpA3KvWiF"
      },
      "id": "C4uvpA3KvWiF"
    },
    {
      "cell_type": "code",
      "execution_count": 16,
      "id": "8cb7cc58-31ae-4904-a805-1177a82717d2",
      "metadata": {
        "id": "8cb7cc58-31ae-4904-a805-1177a82717d2"
      },
      "outputs": [],
      "source": [
        "test_path = '.\\\\data\\\\s1\\\\bbal6n.mpg'"
      ]
    },
    {
      "cell_type": "markdown",
      "source": [
        "It gives base filename(without extension) from given video file path."
      ],
      "metadata": {
        "id": "zAm4xGH7vY8O"
      },
      "id": "zAm4xGH7vY8O"
    },
    {
      "cell_type": "code",
      "execution_count": 17,
      "id": "76aa964f-0c84-490d-897a-d00e3966e2c9",
      "metadata": {
        "colab": {
          "base_uri": "https://localhost:8080/",
          "height": 35
        },
        "id": "76aa964f-0c84-490d-897a-d00e3966e2c9",
        "outputId": "eba93ec8-f030-422d-aff5-caf6a0fd9651"
      },
      "outputs": [
        {
          "output_type": "execute_result",
          "data": {
            "text/plain": [
              "'bbal6n'"
            ],
            "application/vnd.google.colaboratory.intrinsic+json": {
              "type": "string"
            }
          },
          "metadata": {},
          "execution_count": 17
        }
      ],
      "source": [
        "tf.convert_to_tensor(test_path).numpy().decode('utf-8').split('\\\\')[-1].split('.')[0]"
      ]
    },
    {
      "cell_type": "markdown",
      "source": [
        "Here load_data function is called to process video frames and alignments for the given test_path."
      ],
      "metadata": {
        "id": "m6Z-B_o5vcnP"
      },
      "id": "m6Z-B_o5vcnP"
    },
    {
      "cell_type": "code",
      "execution_count": 18,
      "id": "eb602c71-8560-4f9e-b26b-08202febb937",
      "metadata": {
        "id": "eb602c71-8560-4f9e-b26b-08202febb937",
        "scrolled": true
      },
      "outputs": [],
      "source": [
        "frames, alignments = load_data(tf.convert_to_tensor(test_path))"
      ]
    },
    {
      "cell_type": "markdown",
      "source": [
        "40th frame of the video is displayed below. Here, the frames is a list of array from above line and the frames of video is strored in it, with index to each frame converted to a image from video."
      ],
      "metadata": {
        "id": "Ug7U1E8Bve9E"
      },
      "id": "Ug7U1E8Bve9E"
    },
    {
      "cell_type": "code",
      "execution_count": 19,
      "id": "0e3184a1-6b02-4b4f-84a8-a0a65f951ea2",
      "metadata": {
        "colab": {
          "base_uri": "https://localhost:8080/",
          "height": 244
        },
        "id": "0e3184a1-6b02-4b4f-84a8-a0a65f951ea2",
        "outputId": "31fa2e6a-9bf4-42f3-90da-baa96f2f5118"
      },
      "outputs": [
        {
          "output_type": "execute_result",
          "data": {
            "text/plain": [
              "<matplotlib.image.AxesImage at 0x7ef2318641c0>"
            ]
          },
          "metadata": {},
          "execution_count": 19
        },
        {
          "output_type": "display_data",
          "data": {
            "text/plain": [
              "<Figure size 640x480 with 1 Axes>"
            ],
            "image/png": "[encoded data removed]"
          },
          "metadata": {}
        }
      ],
      "source": [
        "plt.imshow(frames[40])"
      ]
    },
    {
      "cell_type": "code",
      "execution_count": 20,
      "id": "d7ec0833-d54b-4073-84cf-92d011c60ec1",
      "metadata": {
        "colab": {
          "base_uri": "https://localhost:8080/"
        },
        "id": "d7ec0833-d54b-4073-84cf-92d011c60ec1",
        "outputId": "654fd8da-cdd2-42d4-d72e-4b1aecee84d4"
      },
      "outputs": [
        {
          "output_type": "execute_result",
          "data": {
            "text/plain": [
              "<tf.Tensor: shape=(21,), dtype=int64, numpy=\n",
              "array([ 2,  9, 14, 39,  2, 12, 21,  5, 39,  1, 20, 39, 12, 39, 19,  9, 24,\n",
              "       39, 14, 15, 23])>"
            ]
          },
          "metadata": {},
          "execution_count": 20
        }
      ],
      "source": [
        "alignments"
      ]
    },
    {
      "cell_type": "markdown",
      "source": [
        "Here num_char converted numerical indices to characters and then joined them into a single string using TensorFlow 'reduce_join' function to a sentence level output."
      ],
      "metadata": {
        "id": "VxiYClO4vjCM"
      },
      "id": "VxiYClO4vjCM"
    },
    {
      "cell_type": "code",
      "execution_count": 21,
      "id": "fe1ad370-b287-4b46-85a2-7c45b0bd9b10",
      "metadata": {
        "colab": {
          "base_uri": "https://localhost:8080/"
        },
        "id": "fe1ad370-b287-4b46-85a2-7c45b0bd9b10",
        "outputId": "ae20640a-64bc-43c8-eaff-dfb9de4a12c1"
      },
      "outputs": [
        {
          "output_type": "execute_result",
          "data": {
            "text/plain": [
              "<tf.Tensor: shape=(), dtype=string, numpy=b'bin blue at l six now'>"
            ]
          },
          "metadata": {},
          "execution_count": 21
        }
      ],
      "source": [
        "tf.strings.reduce_join([bytes.decode(x) for x in num_to_char(alignments.numpy()).numpy()])"
      ]
    },
    {
      "cell_type": "markdown",
      "source": [
        "The 'mappable_function' is a TensorFlow-compatible mapping function. It is used to dataset API for efficient data loading and preprocessing."
      ],
      "metadata": {
        "id": "8yrLje2DvlaI"
      },
      "id": "8yrLje2DvlaI"
    },
    {
      "cell_type": "code",
      "execution_count": 22,
      "id": "6871031a-b0ba-4c76-a852-f6329b0f2606",
      "metadata": {
        "id": "6871031a-b0ba-4c76-a852-f6329b0f2606"
      },
      "outputs": [],
      "source": [
        "from typing import Tuple\n",
        "def mappable_function(path:str) ->Tuple[tf.Tensor, tf.Tensor]:\n",
        "  result = tf.py_function(load_data, [path], (tf.float32, tf.int64))\n",
        "  return result"
      ]
    },
    {
      "cell_type": "markdown",
      "id": "c40a7eb4-0c3e-4eab-9291-5611cb68ce08",
      "metadata": {
        "id": "c40a7eb4-0c3e-4eab-9291-5611cb68ce08"
      },
      "source": [
        "# 2. Create Data Pipeline"
      ]
    },
    {
      "cell_type": "code",
      "execution_count": 25,
      "id": "7686355d-45aa-4c85-ad9c-053e6a9b4d81",
      "metadata": {
        "id": "7686355d-45aa-4c85-ad9c-053e6a9b4d81"
      },
      "outputs": [],
      "source": [
        "from matplotlib import pyplot as plt"
      ]
    },
    {
      "cell_type": "markdown",
      "source": [
        "We are creating a TensorFlow dataset pipeline for the video data:\n",
        "\n",
        "Loaded file paths, shuffled them, applied a mapping function to load and preprocess data, created batches with padding, and splitted the dataset into training and testing subsets.\n",
        "The dataset is splitted into training subset of 450 and remaining is testing subset."
      ],
      "metadata": {
        "id": "T8i6JkugvrBJ"
      },
      "id": "T8i6JkugvrBJ"
    },
    {
      "cell_type": "code",
      "execution_count": 26,
      "id": "f066fea2-91b1-42ed-a67d-00566a1a53ff",
      "metadata": {
        "id": "f066fea2-91b1-42ed-a67d-00566a1a53ff"
      },
      "outputs": [],
      "source": [
        "data = tf.data.Dataset.list_files('./data/s1/*.mpg')\n",
        "data = data.shuffle(500, reshuffle_each_iteration=False)\n",
        "data = data.map(mappable_function)\n",
        "data = data.padded_batch(2, padded_shapes=([75,None,None,None],[40]))\n",
        "data = data.prefetch(tf.data.AUTOTUNE)\n",
        "# Added for split\n",
        "train = data.take(450)\n",
        "test = data.skip(450)"
      ]
    },
    {
      "cell_type": "markdown",
      "source": [
        "The lenght of train is 450 & the length of test is 50"
      ],
      "metadata": {
        "id": "CoITRkTdvxV-"
      },
      "id": "CoITRkTdvxV-"
    },
    {
      "cell_type": "code",
      "execution_count": 27,
      "id": "6b1365bd-7742-41d1-95d4-247021751c3a",
      "metadata": {
        "colab": {
          "base_uri": "https://localhost:8080/"
        },
        "id": "6b1365bd-7742-41d1-95d4-247021751c3a",
        "outputId": "9d944af7-78ce-4190-fdf8-b08e82c92e5d"
      },
      "outputs": [
        {
          "output_type": "execute_result",
          "data": {
            "text/plain": [
              "50"
            ]
          },
          "metadata": {},
          "execution_count": 27
        }
      ],
      "source": [
        "len(test)"
      ]
    },
    {
      "cell_type": "markdown",
      "source": [
        "Here, we created an iterator for the training dataset, converted it to a NumPy iterator, and extracted the next batch of frames and alignments(frames, alignments) for training a model."
      ],
      "metadata": {
        "id": "ZbfgWEH7v0TA"
      },
      "id": "ZbfgWEH7v0TA"
    },
    {
      "cell_type": "code",
      "execution_count": 28,
      "id": "5281bde8-fdc8-4da1-bd55-5a7929a9e80c",
      "metadata": {
        "id": "5281bde8-fdc8-4da1-bd55-5a7929a9e80c"
      },
      "outputs": [],
      "source": [
        "train_iterator = train.as_numpy_iterator()\n",
        "frames, alignments = train_iterator.next()\n"
      ]
    },
    {
      "cell_type": "code",
      "execution_count": 29,
      "id": "cbebe683-6afd-47fd-bba4-c83b4b13bb32",
      "metadata": {
        "colab": {
          "base_uri": "https://localhost:8080/"
        },
        "id": "cbebe683-6afd-47fd-bba4-c83b4b13bb32",
        "outputId": "20bff9ad-90d4-47ef-e002-9c0144323464"
      },
      "outputs": [
        {
          "output_type": "execute_result",
          "data": {
            "text/plain": [
              "2"
            ]
          },
          "metadata": {},
          "execution_count": 29
        }
      ],
      "source": [
        "len(frames)"
      ]
    },
    {
      "cell_type": "code",
      "execution_count": 30,
      "id": "5cf2d676-93a9-434c-b3c7-bdcc2577b2e7",
      "metadata": {
        "id": "5cf2d676-93a9-434c-b3c7-bdcc2577b2e7"
      },
      "outputs": [],
      "source": [
        "sample = data.as_numpy_iterator()"
      ]
    },
    {
      "cell_type": "code",
      "execution_count": 31,
      "id": "efa6cd46-7079-46c0-b45b-832f339f6cb0",
      "metadata": {
        "id": "efa6cd46-7079-46c0-b45b-832f339f6cb0",
        "scrolled": true,
        "colab": {
          "base_uri": "https://localhost:8080/"
        },
        "outputId": "0baeb2fc-6ce9-4edd-8605-7ee501516228"
      },
      "outputs": [
        {
          "output_type": "execute_result",
          "data": {
            "text/plain": [
              "array([[[[[ 1.5127573 ],\n",
              "          [ 1.5487753 ],\n",
              "          [ 1.3326671 ],\n",
              "          ...,\n",
              "          [ 0.39619833],\n",
              "          [ 0.43221638],\n",
              "          [ 0.43221638]],\n",
              "\n",
              "         [[ 1.5487753 ],\n",
              "          [ 1.5487753 ],\n",
              "          [ 1.2606311 ],\n",
              "          ...,\n",
              "          [ 0.39619833],\n",
              "          [ 0.43221638],\n",
              "          [ 0.43221638]],\n",
              "\n",
              "         [[ 1.5127573 ],\n",
              "          [ 1.5127573 ],\n",
              "          [ 1.4767393 ],\n",
              "          ...,\n",
              "          [ 0.36018032],\n",
              "          [ 0.36018032],\n",
              "          [ 0.36018032]],\n",
              "\n",
              "         ...,\n",
              "\n",
              "         [[ 1.152577  ],\n",
              "          [ 1.1165589 ],\n",
              "          [ 1.1165589 ],\n",
              "          ...,\n",
              "          [ 0.14407213],\n",
              "          [ 0.14407213],\n",
              "          [ 0.14407213]],\n",
              "\n",
              "         [[ 1.0805409 ],\n",
              "          [ 1.0805409 ],\n",
              "          [ 1.0805409 ],\n",
              "          ...,\n",
              "          [ 0.14407213],\n",
              "          [ 0.14407213],\n",
              "          [ 0.14407213]],\n",
              "\n",
              "         [[ 1.0805409 ],\n",
              "          [ 1.0805409 ],\n",
              "          [ 1.0805409 ],\n",
              "          ...,\n",
              "          [ 0.14407213],\n",
              "          [ 0.14407213],\n",
              "          [ 0.10805409]]],\n",
              "\n",
              "\n",
              "        [[[ 1.4047031 ],\n",
              "          [ 1.3686851 ],\n",
              "          [ 1.3686851 ],\n",
              "          ...,\n",
              "          [ 0.32416227],\n",
              "          [ 0.36018032],\n",
              "          [ 0.36018032]],\n",
              "\n",
              "         [[ 1.4767393 ],\n",
              "          [ 1.4047031 ],\n",
              "          [ 1.3686851 ],\n",
              "          ...,\n",
              "          [ 0.32416227],\n",
              "          [ 0.36018032],\n",
              "          [ 0.36018032]],\n",
              "\n",
              "         [[ 1.4767393 ],\n",
              "          [ 1.4767393 ],\n",
              "          [ 1.4407213 ],\n",
              "          ...,\n",
              "          [ 0.39619833],\n",
              "          [ 0.36018032],\n",
              "          [ 0.36018032]],\n",
              "\n",
              "         ...,\n",
              "\n",
              "         [[ 1.0805409 ],\n",
              "          [ 1.0445229 ],\n",
              "          [ 1.0445229 ],\n",
              "          ...,\n",
              "          [ 0.14407213],\n",
              "          [ 0.14407213],\n",
              "          [ 0.14407213]],\n",
              "\n",
              "         [[ 1.0805409 ],\n",
              "          [ 1.0805409 ],\n",
              "          [ 1.0805409 ],\n",
              "          ...,\n",
              "          [ 0.14407213],\n",
              "          [ 0.14407213],\n",
              "          [ 0.10805409]],\n",
              "\n",
              "         [[ 1.0805409 ],\n",
              "          [ 1.0805409 ],\n",
              "          [ 1.0805409 ],\n",
              "          ...,\n",
              "          [ 0.14407213],\n",
              "          [ 0.10805409],\n",
              "          [ 0.10805409]]],\n",
              "\n",
              "\n",
              "        [[[ 1.4047031 ],\n",
              "          [ 1.3686851 ],\n",
              "          [ 1.3686851 ],\n",
              "          ...,\n",
              "          [ 0.36018032],\n",
              "          [ 0.32416227],\n",
              "          [ 0.32416227]],\n",
              "\n",
              "         [[ 1.4767393 ],\n",
              "          [ 1.3686851 ],\n",
              "          [ 1.2966491 ],\n",
              "          ...,\n",
              "          [ 0.36018032],\n",
              "          [ 0.32416227],\n",
              "          [ 0.32416227]],\n",
              "\n",
              "         [[ 1.4407213 ],\n",
              "          [ 1.4407213 ],\n",
              "          [ 1.4047031 ],\n",
              "          ...,\n",
              "          [ 0.36018032],\n",
              "          [ 0.36018032],\n",
              "          [ 0.36018032]],\n",
              "\n",
              "         ...,\n",
              "\n",
              "         [[ 1.0805409 ],\n",
              "          [ 1.0445229 ],\n",
              "          [ 1.0445229 ],\n",
              "          ...,\n",
              "          [ 0.14407213],\n",
              "          [ 0.14407213],\n",
              "          [ 0.14407213]],\n",
              "\n",
              "         [[ 1.0805409 ],\n",
              "          [ 1.0805409 ],\n",
              "          [ 1.0805409 ],\n",
              "          ...,\n",
              "          [ 0.14407213],\n",
              "          [ 0.14407213],\n",
              "          [ 0.10805409]],\n",
              "\n",
              "         [[ 1.0805409 ],\n",
              "          [ 1.0805409 ],\n",
              "          [ 1.0805409 ],\n",
              "          ...,\n",
              "          [ 0.14407213],\n",
              "          [ 0.10805409],\n",
              "          [ 0.10805409]]],\n",
              "\n",
              "\n",
              "        ...,\n",
              "\n",
              "\n",
              "        [[[ 1.4767393 ],\n",
              "          [ 1.5127573 ],\n",
              "          [ 1.4047031 ],\n",
              "          ...,\n",
              "          [ 0.39619833],\n",
              "          [ 0.36018032],\n",
              "          [ 0.36018032]],\n",
              "\n",
              "         [[ 1.4047031 ],\n",
              "          [ 1.3686851 ],\n",
              "          [ 1.5127573 ],\n",
              "          ...,\n",
              "          [ 0.39619833],\n",
              "          [ 0.36018032],\n",
              "          [ 0.36018032]],\n",
              "\n",
              "         [[ 1.5127573 ],\n",
              "          [ 1.5127573 ],\n",
              "          [ 1.4047031 ],\n",
              "          ...,\n",
              "          [ 0.36018032],\n",
              "          [ 0.36018032],\n",
              "          [ 0.36018032]],\n",
              "\n",
              "         ...,\n",
              "\n",
              "         [[ 1.0445229 ],\n",
              "          [ 1.0445229 ],\n",
              "          [ 1.0445229 ],\n",
              "          ...,\n",
              "          [ 0.14407213],\n",
              "          [ 0.14407213],\n",
              "          [ 0.14407213]],\n",
              "\n",
              "         [[ 1.0445229 ],\n",
              "          [ 1.0445229 ],\n",
              "          [ 1.0445229 ],\n",
              "          ...,\n",
              "          [ 0.14407213],\n",
              "          [ 0.14407213],\n",
              "          [ 0.14407213]],\n",
              "\n",
              "         [[ 1.0445229 ],\n",
              "          [ 1.0445229 ],\n",
              "          [ 1.0085049 ],\n",
              "          ...,\n",
              "          [ 0.14407213],\n",
              "          [ 0.14407213],\n",
              "          [ 0.10805409]]],\n",
              "\n",
              "\n",
              "        [[[ 1.5127573 ],\n",
              "          [ 1.5487753 ],\n",
              "          [ 1.3686851 ],\n",
              "          ...,\n",
              "          [ 0.39619833],\n",
              "          [ 0.32416227],\n",
              "          [ 0.32416227]],\n",
              "\n",
              "         [[ 1.4047031 ],\n",
              "          [ 1.4407213 ],\n",
              "          [ 1.5127573 ],\n",
              "          ...,\n",
              "          [ 0.39619833],\n",
              "          [ 0.32416227],\n",
              "          [ 0.32416227]],\n",
              "\n",
              "         [[ 1.4767393 ],\n",
              "          [ 1.4767393 ],\n",
              "          [ 1.4407213 ],\n",
              "          ...,\n",
              "          [ 0.39619833],\n",
              "          [ 0.39619833],\n",
              "          [ 0.39619833]],\n",
              "\n",
              "         ...,\n",
              "\n",
              "         [[ 1.0445229 ],\n",
              "          [ 1.0445229 ],\n",
              "          [ 1.0445229 ],\n",
              "          ...,\n",
              "          [ 0.18009016],\n",
              "          [ 0.14407213],\n",
              "          [ 0.14407213]],\n",
              "\n",
              "         [[ 1.0445229 ],\n",
              "          [ 1.0445229 ],\n",
              "          [ 1.0445229 ],\n",
              "          ...,\n",
              "          [ 0.18009016],\n",
              "          [ 0.10805409],\n",
              "          [ 0.10805409]],\n",
              "\n",
              "         [[ 1.0445229 ],\n",
              "          [ 1.0445229 ],\n",
              "          [ 1.0085049 ],\n",
              "          ...,\n",
              "          [ 0.18009016],\n",
              "          [ 0.10805409],\n",
              "          [ 0.07203607]]],\n",
              "\n",
              "\n",
              "        [[[ 1.5487753 ],\n",
              "          [ 1.5127573 ],\n",
              "          [ 1.2966491 ],\n",
              "          ...,\n",
              "          [ 0.39619833],\n",
              "          [ 0.32416227],\n",
              "          [ 0.32416227]],\n",
              "\n",
              "         [[ 1.5127573 ],\n",
              "          [ 1.4047031 ],\n",
              "          [ 1.4407213 ],\n",
              "          ...,\n",
              "          [ 0.39619833],\n",
              "          [ 0.32416227],\n",
              "          [ 0.32416227]],\n",
              "\n",
              "         [[ 1.5127573 ],\n",
              "          [ 1.5127573 ],\n",
              "          [ 1.4407213 ],\n",
              "          ...,\n",
              "          [ 0.39619833],\n",
              "          [ 0.39619833],\n",
              "          [ 0.39619833]],\n",
              "\n",
              "         ...,\n",
              "\n",
              "         [[ 1.0805409 ],\n",
              "          [ 1.0805409 ],\n",
              "          [ 1.0805409 ],\n",
              "          ...,\n",
              "          [ 0.18009016],\n",
              "          [ 0.14407213],\n",
              "          [ 0.14407213]],\n",
              "\n",
              "         [[ 1.0805409 ],\n",
              "          [ 1.0805409 ],\n",
              "          [ 1.0805409 ],\n",
              "          ...,\n",
              "          [ 0.18009016],\n",
              "          [ 0.14407213],\n",
              "          [ 0.14407213]],\n",
              "\n",
              "         [[ 1.0805409 ],\n",
              "          [ 1.0805409 ],\n",
              "          [ 1.0445229 ],\n",
              "          ...,\n",
              "          [ 0.18009016],\n",
              "          [ 0.14407213],\n",
              "          [ 0.10805409]]]],\n",
              "\n",
              "\n",
              "\n",
              "       [[[[ 1.5472838 ],\n",
              "          [ 1.5472838 ],\n",
              "          [ 1.5054653 ],\n",
              "          ...,\n",
              "          [ 0.08363696],\n",
              "          [ 0.04181848],\n",
              "          [ 0.04181848]],\n",
              "\n",
              "         [[ 1.5472838 ],\n",
              "          [ 1.5472838 ],\n",
              "          [ 1.5054653 ],\n",
              "          ...,\n",
              "          [ 0.08363696],\n",
              "          [ 0.04181848],\n",
              "          [ 0.04181848]],\n",
              "\n",
              "         [[ 1.4636469 ],\n",
              "          [ 1.4636469 ],\n",
              "          [ 1.4636469 ],\n",
              "          ...,\n",
              "          [ 0.08363696],\n",
              "          [ 0.04181848],\n",
              "          [ 0.04181848]],\n",
              "\n",
              "         ...,\n",
              "\n",
              "         [[ 1.045462  ],\n",
              "          [ 1.045462  ],\n",
              "          [ 1.0036435 ],\n",
              "          ...,\n",
              "          [10.412802  ],\n",
              "          [10.45462   ],\n",
              "          [10.45462   ]],\n",
              "\n",
              "         [[ 1.045462  ],\n",
              "          [ 1.045462  ],\n",
              "          [ 1.0036435 ],\n",
              "          ...,\n",
              "          [10.412802  ],\n",
              "          [10.45462   ],\n",
              "          [10.45462   ]],\n",
              "\n",
              "         [[ 1.045462  ],\n",
              "          [ 1.045462  ],\n",
              "          [ 1.0036435 ],\n",
              "          ...,\n",
              "          [10.412802  ],\n",
              "          [10.45462   ],\n",
              "          [10.45462   ]]],\n",
              "\n",
              "\n",
              "        [[[ 1.4636469 ],\n",
              "          [ 1.4636469 ],\n",
              "          [ 1.4636469 ],\n",
              "          ...,\n",
              "          [ 0.04181848],\n",
              "          [ 0.04181848],\n",
              "          [ 0.04181848]],\n",
              "\n",
              "         [[ 1.4636469 ],\n",
              "          [ 1.4636469 ],\n",
              "          [ 1.4636469 ],\n",
              "          ...,\n",
              "          [ 0.04181848],\n",
              "          [ 0.04181848],\n",
              "          [ 0.04181848]],\n",
              "\n",
              "         [[ 1.4636469 ],\n",
              "          [ 1.4636469 ],\n",
              "          [ 1.4636469 ],\n",
              "          ...,\n",
              "          [ 0.08363696],\n",
              "          [ 0.04181848],\n",
              "          [ 0.04181848]],\n",
              "\n",
              "         ...,\n",
              "\n",
              "         [[ 1.045462  ],\n",
              "          [ 1.045462  ],\n",
              "          [ 1.0036435 ],\n",
              "          ...,\n",
              "          [10.496439  ],\n",
              "          [10.538258  ],\n",
              "          [10.496439  ]],\n",
              "\n",
              "         [[ 1.045462  ],\n",
              "          [ 1.045462  ],\n",
              "          [ 1.0036435 ],\n",
              "          ...,\n",
              "          [10.496439  ],\n",
              "          [10.496439  ],\n",
              "          [10.496439  ]],\n",
              "\n",
              "         [[ 1.045462  ],\n",
              "          [ 1.045462  ],\n",
              "          [ 1.0036435 ],\n",
              "          ...,\n",
              "          [10.45462   ],\n",
              "          [10.496439  ],\n",
              "          [10.496439  ]]],\n",
              "\n",
              "\n",
              "        [[[ 1.4636469 ],\n",
              "          [ 1.4636469 ],\n",
              "          [ 1.5054653 ],\n",
              "          ...,\n",
              "          [ 0.08363696],\n",
              "          [ 0.04181848],\n",
              "          [ 0.04181848]],\n",
              "\n",
              "         [[ 1.4636469 ],\n",
              "          [ 1.4636469 ],\n",
              "          [ 1.5054653 ],\n",
              "          ...,\n",
              "          [ 0.08363696],\n",
              "          [ 0.04181848],\n",
              "          [ 0.04181848]],\n",
              "\n",
              "         [[ 1.4636469 ],\n",
              "          [ 1.4636469 ],\n",
              "          [ 1.4636469 ],\n",
              "          ...,\n",
              "          [ 0.04181848],\n",
              "          [ 0.04181848],\n",
              "          [ 0.04181848]],\n",
              "\n",
              "         ...,\n",
              "\n",
              "         [[ 1.0872805 ],\n",
              "          [ 1.045462  ],\n",
              "          [ 1.045462  ],\n",
              "          ...,\n",
              "          [10.580075  ],\n",
              "          [10.580075  ],\n",
              "          [10.538258  ]],\n",
              "\n",
              "         [[ 1.045462  ],\n",
              "          [ 1.045462  ],\n",
              "          [ 1.045462  ],\n",
              "          ...,\n",
              "          [10.580075  ],\n",
              "          [10.538258  ],\n",
              "          [10.538258  ]],\n",
              "\n",
              "         [[ 1.045462  ],\n",
              "          [ 1.045462  ],\n",
              "          [ 1.045462  ],\n",
              "          ...,\n",
              "          [10.538258  ],\n",
              "          [10.538258  ],\n",
              "          [10.538258  ]]],\n",
              "\n",
              "\n",
              "        ...,\n",
              "\n",
              "\n",
              "        [[[ 1.5054653 ],\n",
              "          [ 1.5054653 ],\n",
              "          [ 1.4636469 ],\n",
              "          ...,\n",
              "          [ 0.        ],\n",
              "          [ 0.        ],\n",
              "          [ 0.        ]],\n",
              "\n",
              "         [[ 1.5054653 ],\n",
              "          [ 1.4636469 ],\n",
              "          [ 1.4636469 ],\n",
              "          ...,\n",
              "          [ 0.        ],\n",
              "          [ 0.        ],\n",
              "          [ 0.        ]],\n",
              "\n",
              "         [[ 1.4218284 ],\n",
              "          [ 1.4218284 ],\n",
              "          [ 1.3800099 ],\n",
              "          ...,\n",
              "          [ 0.        ],\n",
              "          [ 0.        ],\n",
              "          [ 0.        ]],\n",
              "\n",
              "         ...,\n",
              "\n",
              "         [[ 1.0036435 ],\n",
              "          [ 1.0036435 ],\n",
              "          [ 0.9618251 ],\n",
              "          ...,\n",
              "          [10.412802  ],\n",
              "          [10.412802  ],\n",
              "          [10.412802  ]],\n",
              "\n",
              "         [[ 0.9618251 ],\n",
              "          [ 0.9618251 ],\n",
              "          [ 0.9618251 ],\n",
              "          ...,\n",
              "          [10.412802  ],\n",
              "          [10.412802  ],\n",
              "          [10.412802  ]],\n",
              "\n",
              "         [[ 0.9618251 ],\n",
              "          [ 0.9618251 ],\n",
              "          [ 0.9618251 ],\n",
              "          ...,\n",
              "          [10.412802  ],\n",
              "          [10.412802  ],\n",
              "          [10.412802  ]]],\n",
              "\n",
              "\n",
              "        [[[ 1.5054653 ],\n",
              "          [ 1.5054653 ],\n",
              "          [ 1.4636469 ],\n",
              "          ...,\n",
              "          [ 0.04181848],\n",
              "          [ 0.        ],\n",
              "          [ 0.        ]],\n",
              "\n",
              "         [[ 1.5054653 ],\n",
              "          [ 1.4636469 ],\n",
              "          [ 1.4636469 ],\n",
              "          ...,\n",
              "          [ 0.04181848],\n",
              "          [ 0.        ],\n",
              "          [ 0.        ]],\n",
              "\n",
              "         [[ 1.4218284 ],\n",
              "          [ 1.4218284 ],\n",
              "          [ 1.3800099 ],\n",
              "          ...,\n",
              "          [ 0.        ],\n",
              "          [ 0.        ],\n",
              "          [ 0.        ]],\n",
              "\n",
              "         ...,\n",
              "\n",
              "         [[ 1.0036435 ],\n",
              "          [ 0.9618251 ],\n",
              "          [ 0.9618251 ],\n",
              "          ...,\n",
              "          [10.412802  ],\n",
              "          [10.412802  ],\n",
              "          [10.412802  ]],\n",
              "\n",
              "         [[ 0.9618251 ],\n",
              "          [ 0.9618251 ],\n",
              "          [ 0.9618251 ],\n",
              "          ...,\n",
              "          [10.412802  ],\n",
              "          [10.412802  ],\n",
              "          [10.412802  ]],\n",
              "\n",
              "         [[ 0.9618251 ],\n",
              "          [ 0.9618251 ],\n",
              "          [ 0.9618251 ],\n",
              "          ...,\n",
              "          [10.412802  ],\n",
              "          [10.412802  ],\n",
              "          [10.412802  ]]],\n",
              "\n",
              "\n",
              "        [[[ 1.5472838 ],\n",
              "          [ 1.5472838 ],\n",
              "          [ 1.4636469 ],\n",
              "          ...,\n",
              "          [ 0.04181848],\n",
              "          [ 0.04181848],\n",
              "          [ 0.        ]],\n",
              "\n",
              "         [[ 1.5472838 ],\n",
              "          [ 1.5054653 ],\n",
              "          [ 1.4636469 ],\n",
              "          ...,\n",
              "          [ 0.04181848],\n",
              "          [ 0.04181848],\n",
              "          [ 0.        ]],\n",
              "\n",
              "         [[ 1.5054653 ],\n",
              "          [ 1.5054653 ],\n",
              "          [ 1.4636469 ],\n",
              "          ...,\n",
              "          [ 0.04181848],\n",
              "          [ 0.        ],\n",
              "          [ 0.        ]],\n",
              "\n",
              "         ...,\n",
              "\n",
              "         [[ 1.045462  ],\n",
              "          [ 1.045462  ],\n",
              "          [ 1.045462  ],\n",
              "          ...,\n",
              "          [10.412802  ],\n",
              "          [10.412802  ],\n",
              "          [10.412802  ]],\n",
              "\n",
              "         [[ 1.0036435 ],\n",
              "          [ 1.0036435 ],\n",
              "          [ 1.0036435 ],\n",
              "          ...,\n",
              "          [10.412802  ],\n",
              "          [10.412802  ],\n",
              "          [10.412802  ]],\n",
              "\n",
              "         [[ 1.0036435 ],\n",
              "          [ 1.0036435 ],\n",
              "          [ 0.9618251 ],\n",
              "          ...,\n",
              "          [10.412802  ],\n",
              "          [10.412802  ],\n",
              "          [10.370983  ]]]]], dtype=float32)"
            ]
          },
          "metadata": {},
          "execution_count": 31
        }
      ],
      "source": [
        "val = sample.next(); val[0]"
      ]
    },
    {
      "cell_type": "code",
      "execution_count": 33,
      "id": "c33a87a2-d5e0-4ec9-b174-73ebf41bf03a",
      "metadata": {
        "colab": {
          "base_uri": "https://localhost:8080/",
          "height": 244
        },
        "id": "c33a87a2-d5e0-4ec9-b174-73ebf41bf03a",
        "outputId": "ccf9de27-0151-438a-a779-f17c7f582a02"
      },
      "outputs": [
        {
          "output_type": "execute_result",
          "data": {
            "text/plain": [
              "<matplotlib.image.AxesImage at 0x7ef22c0fef50>"
            ]
          },
          "metadata": {},
          "execution_count": 33
        },
        {
          "output_type": "display_data",
          "data": {
            "text/plain": [
              "<Figure size 640x480 with 1 Axes>"
            ],
            "image/png": "[encoded data removed]"
          },
          "metadata": {}
        }
      ],
      "source": [
        "# 0:videos, 0: 1st video out of the batch,  0: return the first frame in the video\n",
        "plt.imshow(val[0][0][35])"
      ]
    },
    {
      "cell_type": "code",
      "execution_count": 34,
      "id": "84593332-133c-4205-b7a6-8e235d5e2b3b",
      "metadata": {
        "colab": {
          "base_uri": "https://localhost:8080/"
        },
        "id": "84593332-133c-4205-b7a6-8e235d5e2b3b",
        "outputId": "b33c1e18-6236-4179-9f78-54fdbf7ee9ca"
      },
      "outputs": [
        {
          "output_type": "execute_result",
          "data": {
            "text/plain": [
              "<tf.Tensor: shape=(), dtype=string, numpy=b'set red at n eight now'>"
            ]
          },
          "metadata": {},
          "execution_count": 34
        }
      ],
      "source": [
        "tf.strings.reduce_join([num_to_char(word) for word in val[1][0]])"
      ]
    },
    {
      "cell_type": "markdown",
      "id": "0f47733c-83bc-465c-b118-b198b492ad37",
      "metadata": {
        "id": "0f47733c-83bc-465c-b118-b198b492ad37"
      },
      "source": [
        "# 3. Design the Deep Neural Network"
      ]
    },
    {
      "cell_type": "markdown",
      "source": [
        "* Designing the deep neural network by importing required documentaries.\n",
        "* Additionally here Adam optimizer and callbacks like ModelCheckpoint and LearningRateScheduler for model training."
      ],
      "metadata": {
        "id": "QKQ204oUv71K"
      },
      "id": "QKQ204oUv71K"
    },
    {
      "cell_type": "code",
      "execution_count": 35,
      "id": "d8e9a497-191b-4842-afbd-26f5e13c43ba",
      "metadata": {
        "id": "d8e9a497-191b-4842-afbd-26f5e13c43ba"
      },
      "outputs": [],
      "source": [
        "from tensorflow.keras.models import Sequential\n",
        "from tensorflow.keras.layers import Conv3D, LSTM, Dense, Dropout, Bidirectional, MaxPool3D, Activation, Reshape, SpatialDropout3D, BatchNormalization, TimeDistributed, Flatten\n",
        "from tensorflow.keras.optimizers import Adam\n",
        "from tensorflow.keras.callbacks import ModelCheckpoint, LearningRateScheduler"
      ]
    },
    {
      "cell_type": "code",
      "execution_count": 36,
      "id": "3f753ed2-70b9-4236-8c1c-08ca065dc8bf",
      "metadata": {
        "colab": {
          "base_uri": "https://localhost:8080/"
        },
        "id": "3f753ed2-70b9-4236-8c1c-08ca065dc8bf",
        "outputId": "7b9a591f-0fe3-4786-a1df-b6e36b83f430"
      },
      "outputs": [
        {
          "output_type": "execute_result",
          "data": {
            "text/plain": [
              "(75, 46, 140, 1)"
            ]
          },
          "metadata": {},
          "execution_count": 36
        }
      ],
      "source": [
        "data.as_numpy_iterator().next()[0][0].shape"
      ]
    },
    {
      "cell_type": "markdown",
      "source": [
        "This code defines a Sequential model in TensorFlow Keras for a 3D convolutional and bidirectional LSTM network. It consists of three 3D convolutional layers with activation and max-pooling, followed by a TimeDistributed layer and two Bidirectional LSTM layers with dropout. The final layer is a Dense layer with softmax activation, producing output for character prediction. The model is designed for a specific input shape of (75, 46, 140, 1) representing video frames, and it outputs probabilities for characters in the vocabulary. Adjustments may be necessary based on the specific requirements of your task."
      ],
      "metadata": {
        "id": "Ndqk-T7dwDbc"
      },
      "id": "Ndqk-T7dwDbc"
    },
    {
      "cell_type": "code",
      "execution_count": 37,
      "id": "f9171056-a352-491a-9ed9-92b28ced268e",
      "metadata": {
        "id": "f9171056-a352-491a-9ed9-92b28ced268e"
      },
      "outputs": [],
      "source": [
        "model = Sequential()\n",
        "model.add(Conv3D(128, 3, input_shape=(75,46,140,1), padding='same'))\n",
        "model.add(Activation('relu'))\n",
        "model.add(MaxPool3D((1,2,2)))\n",
        "\n",
        "model.add(Conv3D(256, 3, padding='same'))\n",
        "model.add(Activation('relu'))\n",
        "model.add(MaxPool3D((1,2,2)))\n",
        "\n",
        "model.add(Conv3D(75, 3, padding='same'))\n",
        "model.add(Activation('relu'))\n",
        "model.add(MaxPool3D((1,2,2)))\n",
        "\n",
        "model.add(TimeDistributed(Flatten()))\n",
        "\n",
        "model.add(Bidirectional(LSTM(128, kernel_initializer='Orthogonal', return_sequences=True)))\n",
        "model.add(Dropout(.5))\n",
        "\n",
        "model.add(Bidirectional(LSTM(128, kernel_initializer='Orthogonal', return_sequences=True)))\n",
        "model.add(Dropout(.5))\n",
        "\n",
        "model.add(Dense(char_to_num.vocabulary_size()+1, kernel_initializer='he_normal', activation='softmax'))"
      ]
    },
    {
      "cell_type": "code",
      "execution_count": 38,
      "id": "78851825-2bcd-42a9-b7f2-28bb5a6bf43a",
      "metadata": {
        "colab": {
          "base_uri": "https://localhost:8080/"
        },
        "id": "78851825-2bcd-42a9-b7f2-28bb5a6bf43a",
        "outputId": "1abfdc35-cc0f-4749-9505-b7e315209b86"
      },
      "outputs": [
        {
          "output_type": "stream",
          "name": "stdout",
          "text": [
            "Model: \"sequential\"\n",
            "_________________________________________________________________\n",
            " Layer (type)                Output Shape              Param #   \n",
            "=================================================================\n",
            " conv3d (Conv3D)             (None, 75, 46, 140, 128   3584      \n",
            "                             )                                   \n",
            "                                                                 \n",
            " activation (Activation)     (None, 75, 46, 140, 128   0         \n",
            "                             )                                   \n",
            "                                                                 \n",
            " max_pooling3d (MaxPooling3  (None, 75, 23, 70, 128)   0         \n",
            " D)                                                              \n",
            "                                                                 \n",
            " conv3d_1 (Conv3D)           (None, 75, 23, 70, 256)   884992    \n",
            "                                                                 \n",
            " activation_1 (Activation)   (None, 75, 23, 70, 256)   0         \n",
            "                                                                 \n",
            " max_pooling3d_1 (MaxPoolin  (None, 75, 11, 35, 256)   0         \n",
            " g3D)                                                            \n",
            "                                                                 \n",
            " conv3d_2 (Conv3D)           (None, 75, 11, 35, 75)    518475    \n",
            "                                                                 \n",
            " activation_2 (Activation)   (None, 75, 11, 35, 75)    0         \n",
            "                                                                 \n",
            " max_pooling3d_2 (MaxPoolin  (None, 75, 5, 17, 75)     0         \n",
            " g3D)                                                            \n",
            "                                                                 \n",
            " time_distributed (TimeDist  (None, 75, 6375)          0         \n",
            " ributed)                                                        \n",
            "                                                                 \n",
            " bidirectional (Bidirection  (None, 75, 256)           6660096   \n",
            " al)                                                             \n",
            "                                                                 \n",
            " dropout (Dropout)           (None, 75, 256)           0         \n",
            "                                                                 \n",
            " bidirectional_1 (Bidirecti  (None, 75, 256)           394240    \n",
            " onal)                                                           \n",
            "                                                                 \n",
            " dropout_1 (Dropout)         (None, 75, 256)           0         \n",
            "                                                                 \n",
            " dense (Dense)               (None, 75, 41)            10537     \n",
            "                                                                 \n",
            "=================================================================\n",
            "Total params: 8471924 (32.32 MB)\n",
            "Trainable params: 8471924 (32.32 MB)\n",
            "Non-trainable params: 0 (0.00 Byte)\n",
            "_________________________________________________________________\n"
          ]
        }
      ],
      "source": [
        "model.summary()"
      ]
    },
    {
      "cell_type": "code",
      "execution_count": 39,
      "id": "e5c2eae0-c359-41a4-97a0-75c44dccb7d1",
      "metadata": {
        "colab": {
          "base_uri": "https://localhost:8080/"
        },
        "id": "e5c2eae0-c359-41a4-97a0-75c44dccb7d1",
        "outputId": "7d84cc8b-cb6b-48ce-e95f-f10bbae65a7f"
      },
      "outputs": [
        {
          "output_type": "stream",
          "name": "stdout",
          "text": [
            "1/1 [==============================] - 14s 14s/step\n"
          ]
        }
      ],
      "source": [
        "yhat = model.predict(val[0])"
      ]
    },
    {
      "cell_type": "code",
      "execution_count": 40,
      "id": "ffdc7319-0d69-4f7e-a6d4-ce72deb81c0b",
      "metadata": {
        "colab": {
          "base_uri": "https://localhost:8080/"
        },
        "id": "ffdc7319-0d69-4f7e-a6d4-ce72deb81c0b",
        "outputId": "d5f55d58-8dc8-4939-8aee-b080298c193a"
      },
      "outputs": [
        {
          "output_type": "execute_result",
          "data": {
            "text/plain": [
              "<tf.Tensor: shape=(), dtype=string, numpy=b't55555555555555555555555555555555555555555555555555555555555555555555555555'>"
            ]
          },
          "metadata": {},
          "execution_count": 40
        }
      ],
      "source": [
        "tf.strings.reduce_join([num_to_char(x) for x in tf.argmax(yhat[0],axis=1)])"
      ]
    },
    {
      "cell_type": "code",
      "execution_count": 41,
      "id": "6ed47531-8317-4255-9a12-b757642258e6",
      "metadata": {
        "colab": {
          "base_uri": "https://localhost:8080/"
        },
        "id": "6ed47531-8317-4255-9a12-b757642258e6",
        "outputId": "c78cc082-6fff-4f1d-99e4-dfb71dd57bdf"
      },
      "outputs": [
        {
          "output_type": "execute_result",
          "data": {
            "text/plain": [
              "<tf.Tensor: shape=(), dtype=string, numpy=b't55555555555555555555555555555555555555555555555555555555555555555555555555'>"
            ]
          },
          "metadata": {},
          "execution_count": 41
        }
      ],
      "source": [
        "tf.strings.reduce_join([num_to_char(tf.argmax(x)) for x in yhat[0]])"
      ]
    },
    {
      "cell_type": "code",
      "execution_count": 42,
      "id": "7c37b9b9-5298-4038-9c33-5031d1b457f0",
      "metadata": {
        "colab": {
          "base_uri": "https://localhost:8080/"
        },
        "id": "7c37b9b9-5298-4038-9c33-5031d1b457f0",
        "outputId": "25aa827b-bdb3-423e-9891-d62d6d47e579"
      },
      "outputs": [
        {
          "output_type": "execute_result",
          "data": {
            "text/plain": [
              "(None, 75, 46, 140, 1)"
            ]
          },
          "metadata": {},
          "execution_count": 42
        }
      ],
      "source": [
        "model.input_shape"
      ]
    },
    {
      "cell_type": "code",
      "execution_count": 43,
      "id": "98b316a4-5322-4782-8e36-4b3c1a696d85",
      "metadata": {
        "colab": {
          "base_uri": "https://localhost:8080/"
        },
        "id": "98b316a4-5322-4782-8e36-4b3c1a696d85",
        "outputId": "80ec0120-ca57-4456-9951-1f5cd7731b08"
      },
      "outputs": [
        {
          "output_type": "execute_result",
          "data": {
            "text/plain": [
              "(None, 75, 41)"
            ]
          },
          "metadata": {},
          "execution_count": 43
        }
      ],
      "source": [
        "model.output_shape"
      ]
    },
    {
      "cell_type": "markdown",
      "id": "2ec02176-5c26-46c3-aff7-8352e6563c7d",
      "metadata": {
        "id": "2ec02176-5c26-46c3-aff7-8352e6563c7d"
      },
      "source": [
        "# 4. Setup Training Options and Train"
      ]
    },
    {
      "cell_type": "markdown",
      "source": [
        "The scheduler function, is a learning rate scheduler used in training a deep learning model.Here, the first 30 epochs, it maintains the learning rate (lr) unchanged, and after that, it exponentially decays the learning rate by multiplying it with the exponential of -0.1."
      ],
      "metadata": {
        "id": "jVM8XYEmwIb8"
      },
      "id": "jVM8XYEmwIb8"
    },
    {
      "cell_type": "code",
      "execution_count": 44,
      "id": "ab015fd0-7fb4-4d5d-9fa2-30a05dbd515a",
      "metadata": {
        "id": "ab015fd0-7fb4-4d5d-9fa2-30a05dbd515a"
      },
      "outputs": [],
      "source": [
        "def scheduler(epoch, lr):\n",
        "    if epoch < 30:\n",
        "        return lr\n",
        "    else:\n",
        "        return lr * tf.math.exp(-0.1)"
      ]
    },
    {
      "cell_type": "markdown",
      "source": [
        "Here, the below CTCLoss function computes the Connectionist Temporal Classification (CTC) loss between the ground truth labels (y_true) and the predicted probabilities (y_pred).\n",
        "- It involves casting and reshaping to ensure compatibility of the model\n",
        "- Then we used tf.keras.backend.ctc_batch_cost to calculate the CTC loss.\n",
        "- This loss function is commonly used in sequence-to-sequence model prediction for speech and handwriting recognition."
      ],
      "metadata": {
        "id": "NIvJi2qmwKfO"
      },
      "id": "NIvJi2qmwKfO"
    },
    {
      "cell_type": "code",
      "execution_count": 45,
      "id": "c564d5c9-db54-4e88-b311-9aeab7fb3e69",
      "metadata": {
        "id": "c564d5c9-db54-4e88-b311-9aeab7fb3e69"
      },
      "outputs": [],
      "source": [
        "def CTCLoss(y_true, y_pred):\n",
        "    batch_len = tf.cast(tf.shape(y_true)[0], dtype=\"int64\")\n",
        "    input_length = tf.cast(tf.shape(y_pred)[1], dtype=\"int64\")\n",
        "    label_length = tf.cast(tf.shape(y_true)[1], dtype=\"int64\")\n",
        "\n",
        "    input_length = input_length * tf.ones(shape=(batch_len, 1), dtype=\"int64\")\n",
        "    label_length = label_length * tf.ones(shape=(batch_len, 1), dtype=\"int64\")\n",
        "\n",
        "    loss = tf.keras.backend.ctc_batch_cost(y_true, y_pred, input_length, label_length)\n",
        "    return loss"
      ]
    },
    {
      "cell_type": "markdown",
      "source": [
        "- We used a custom callback in TensorFlow Keras to generate examples during training by printing the original and predicted sequences at the end of each epoch.\n",
        "- It used the model to predict on a batch from the provided dataset, decoded the predictions as seen below using CTC decoding.\n",
        "- It printed original and predicted sequences of text sentences for each example in the batch.\n",
        "- It is useful for monitoring the model's progress and performance during training."
      ],
      "metadata": {
        "id": "kZan_HuQwOm3"
      },
      "id": "kZan_HuQwOm3"
    },
    {
      "cell_type": "code",
      "execution_count": 46,
      "id": "a26dc3fc-a19c-4378-bd8c-e2b597a1d15c",
      "metadata": {
        "id": "a26dc3fc-a19c-4378-bd8c-e2b597a1d15c"
      },
      "outputs": [],
      "source": [
        "class ProduceExample(tf.keras.callbacks.Callback):\n",
        "    def __init__(self, dataset) -> None:\n",
        "        self.dataset = dataset.as_numpy_iterator()\n",
        "\n",
        "    def on_epoch_end(self, epoch, logs=None) -> None:\n",
        "        data = self.dataset.next()\n",
        "        yhat = self.model.predict(data[0])\n",
        "        decoded = tf.keras.backend.ctc_decode(yhat, [75,75], greedy=False)[0][0].numpy()\n",
        "        for x in range(len(yhat)):\n",
        "            print('Original:', tf.strings.reduce_join(num_to_char(data[1][x])).numpy().decode('utf-8'))\n",
        "            print('Prediction:', tf.strings.reduce_join(num_to_char(decoded[x])).numpy().decode('utf-8'))\n",
        "            print('~'*100)"
      ]
    },
    {
      "cell_type": "markdown",
      "source": [
        "This code compiles a TensorFlow Keras model using the Adam optimizer with a learning rate of 0.001 and a custom CTC loss function. It prepares the model for training by specifying the optimization algorithm and the loss function to minimize.\n",
        "\n",
        "Here we used the Adam optimizer with a learning rate of 0.001 and a custom CTC loss function for the preparation of the model for training by specifying the optimization and the loss function to minimize."
      ],
      "metadata": {
        "id": "KpNhxeZQwUSI"
      },
      "id": "KpNhxeZQwUSI"
    },
    {
      "cell_type": "code",
      "execution_count": 54,
      "id": "04be90d8-2482-46f9-b513-d5f4f8001c7e",
      "metadata": {
        "id": "04be90d8-2482-46f9-b513-d5f4f8001c7e"
      },
      "outputs": [],
      "source": [
        "model.compile(optimizer=tf.keras.optimizers.legacy.Adam(learning_rate=0.001), loss=CTCLoss)"
      ]
    },
    {
      "cell_type": "markdown",
      "source": [
        "Here we created a ModelCheckpoint callback function, which saves model weights to a file ('models/checkpoint') during training epochs, based on the 'loss' metric, and only saves the weights without the entire model.\n",
        "\n",
        "This is useful for resuming training and also for selecting the best model based on the loss of the data during training of the model."
      ],
      "metadata": {
        "id": "6Mhg-qcCwXB0"
      },
      "id": "6Mhg-qcCwXB0"
    },
    {
      "cell_type": "code",
      "execution_count": 48,
      "id": "eab49367-3f1e-4464-ae76-dbd07549d97e",
      "metadata": {
        "id": "eab49367-3f1e-4464-ae76-dbd07549d97e"
      },
      "outputs": [],
      "source": [
        "checkpoint_callback = ModelCheckpoint(os.path.join('models','checkpoint'), monitor='loss', save_weights_only=True)"
      ]
    },
    {
      "cell_type": "markdown",
      "source": [
        "LearningRateScheduler callback function used the custom learning rate scheduler function defined earlier. This learning rate will be adjusted during training epochs based on the schedule."
      ],
      "metadata": {
        "id": "2l0iW6n4wZMg"
      },
      "id": "2l0iW6n4wZMg"
    },
    {
      "cell_type": "code",
      "execution_count": 49,
      "id": "e085a632-d464-46ef-8777-959cad4adb2c",
      "metadata": {
        "id": "e085a632-d464-46ef-8777-959cad4adb2c"
      },
      "outputs": [],
      "source": [
        "schedule_callback = LearningRateScheduler(scheduler)"
      ]
    },
    {
      "cell_type": "markdown",
      "source": [
        "we are checking whether the model is working or not by producing a test case"
      ],
      "metadata": {
        "id": "P-2D9eUEwbOi"
      },
      "id": "P-2D9eUEwbOi"
    },
    {
      "cell_type": "code",
      "execution_count": 50,
      "id": "48eca991-90ab-4592-8a79-b50e9ca015b6",
      "metadata": {
        "id": "48eca991-90ab-4592-8a79-b50e9ca015b6"
      },
      "outputs": [],
      "source": [
        "example_callback = ProduceExample(test)"
      ]
    },
    {
      "cell_type": "markdown",
      "source": [
        "We trained the model using training dataset and validated this model against test dataset.\n",
        "\n",
        "It runs for 10 epochs and utilizes callbacks, including ModelCheckpoint, LearningRateScheduler and a custom callback for generating random examples during the training.It took almost more than 6 hours for 10 epochs."
      ],
      "metadata": {
        "id": "kso_K7oswlGF"
      },
      "id": "kso_K7oswlGF"
    },
    {
      "cell_type": "code",
      "execution_count": null,
      "id": "8ffba483-aa61-4bbe-a15f-a73e1ddf097c",
      "metadata": {
        "colab": {
          "background_save": true,
          "base_uri": "https://localhost:8080/"
        },
        "id": "8ffba483-aa61-4bbe-a15f-a73e1ddf097c",
        "outputId": "9f2a6ba1-1c2f-48f7-d7fc-68bed3463c79"
      },
      "outputs": [
        {
          "name": "stdout",
          "output_type": "stream",
          "text": [
            "Epoch 1/10\n",
            "WARNING:tensorflow:From C:\\ProgramData\\anaconda3\\Lib\\site-packages\\keras\\src\\backend.py:7169: The name tf.nn.ctc_loss is deprecated. Please use tf.compat.v1.nn.ctc_loss instead.\n",
            "\n",
            "1/1 [==============================] - 2s 2s/steps - loss: 84.40\n",
            "Original: set blue with b five again\n",
            "Prediction: le e e e e o\n",
            "~~~~~~~~~~~~~~~~~~~~~~~~~~~~~~~~~~~~~~~~~~~~~~~~~~~~~~~~~~~~~~~~~~~~~~~~~~~~~~~~~~~~~~~~~~~~~~~~~~~~\n",
            "Original: set blue at n four please\n",
            "Prediction: le e e e e o\n",
            "~~~~~~~~~~~~~~~~~~~~~~~~~~~~~~~~~~~~~~~~~~~~~~~~~~~~~~~~~~~~~~~~~~~~~~~~~~~~~~~~~~~~~~~~~~~~~~~~~~~~\n",
            "450/450 [==============================] - 2095s 5s/step - loss: 84.4042 - val_loss: 69.5367 - lr: 1.0000e-04\n",
            "Epoch 2/10\n",
            "1/1 [==============================] - 1s 1s/steps - loss: 71.10\n",
            "Original: place green by k seven soon\n",
            "Prediction: la e e e eo\n",
            "~~~~~~~~~~~~~~~~~~~~~~~~~~~~~~~~~~~~~~~~~~~~~~~~~~~~~~~~~~~~~~~~~~~~~~~~~~~~~~~~~~~~~~~~~~~~~~~~~~~~\n",
            "Original: bin white at n one again\n",
            "Prediction: la e e e ao\n",
            "~~~~~~~~~~~~~~~~~~~~~~~~~~~~~~~~~~~~~~~~~~~~~~~~~~~~~~~~~~~~~~~~~~~~~~~~~~~~~~~~~~~~~~~~~~~~~~~~~~~~\n",
            "450/450 [==============================] - 1887s 4s/step - loss: 71.1052 - val_loss: 65.5817 - lr: 1.0000e-04\n",
            "Epoch 3/10\n",
            "1/1 [==============================] - 1s 1s/steps - loss: 67.44\n",
            "Original: bin blue at l six now\n",
            "Prediction: la e e t e eo\n",
            "~~~~~~~~~~~~~~~~~~~~~~~~~~~~~~~~~~~~~~~~~~~~~~~~~~~~~~~~~~~~~~~~~~~~~~~~~~~~~~~~~~~~~~~~~~~~~~~~~~~~\n",
            "Original: bin green with u nine again\n",
            "Prediction: la e e t e eo\n",
            "~~~~~~~~~~~~~~~~~~~~~~~~~~~~~~~~~~~~~~~~~~~~~~~~~~~~~~~~~~~~~~~~~~~~~~~~~~~~~~~~~~~~~~~~~~~~~~~~~~~~\n",
            "450/450 [==============================] - 1948s 4s/step - loss: 67.4473 - val_loss: 62.3993 - lr: 1.0000e-04\n",
            "Epoch 4/10\n",
            "1/1 [==============================] - 1s 1s/steps - loss: 64.43\n",
            "Original: place blue with p eight please\n",
            "Prediction: la e e e ao\n",
            "~~~~~~~~~~~~~~~~~~~~~~~~~~~~~~~~~~~~~~~~~~~~~~~~~~~~~~~~~~~~~~~~~~~~~~~~~~~~~~~~~~~~~~~~~~~~~~~~~~~~\n",
            "Original: place green in j nine soon\n",
            "Prediction: la e e t e eao\n",
            "~~~~~~~~~~~~~~~~~~~~~~~~~~~~~~~~~~~~~~~~~~~~~~~~~~~~~~~~~~~~~~~~~~~~~~~~~~~~~~~~~~~~~~~~~~~~~~~~~~~~\n",
            "450/450 [==============================] - 1913s 4s/step - loss: 64.4349 - val_loss: 60.5753 - lr: 1.0000e-04\n",
            "Epoch 5/10\n",
            "1/1 [==============================] - 1s 1s/steps - loss: 62.35\n",
            "Original: set red by o four please\n",
            "Prediction: la re t e on\n",
            "~~~~~~~~~~~~~~~~~~~~~~~~~~~~~~~~~~~~~~~~~~~~~~~~~~~~~~~~~~~~~~~~~~~~~~~~~~~~~~~~~~~~~~~~~~~~~~~~~~~~\n",
            "Original: set white with v eight please\n",
            "Prediction: la re t e on\n",
            "~~~~~~~~~~~~~~~~~~~~~~~~~~~~~~~~~~~~~~~~~~~~~~~~~~~~~~~~~~~~~~~~~~~~~~~~~~~~~~~~~~~~~~~~~~~~~~~~~~~~\n",
            "450/450 [==============================] - 1914s 4s/step - loss: 62.3536 - val_loss: 58.5859 - lr: 1.0000e-04\n",
            "Epoch 6/10\n",
            "1/1 [==============================] - 1s 1s/steps - loss: 60.77\n",
            "Original: lay red in k two now\n",
            "Prediction: la re t e eo\n",
            "~~~~~~~~~~~~~~~~~~~~~~~~~~~~~~~~~~~~~~~~~~~~~~~~~~~~~~~~~~~~~~~~~~~~~~~~~~~~~~~~~~~~~~~~~~~~~~~~~~~~\n",
            "Original: lay white with z eight now\n",
            "Prediction: la re t e eo\n",
            "~~~~~~~~~~~~~~~~~~~~~~~~~~~~~~~~~~~~~~~~~~~~~~~~~~~~~~~~~~~~~~~~~~~~~~~~~~~~~~~~~~~~~~~~~~~~~~~~~~~~\n",
            "450/450 [==============================] - 1956s 4s/step - loss: 60.7706 - val_loss: 56.9091 - lr: 1.0000e-04\n",
            "Epoch 7/10\n",
            "1/1 [==============================] - 1s 1s/steps - loss: 57.51\n",
            "Original: lay blue sp with e six please\n",
            "Prediction: la re i e an\n",
            "~~~~~~~~~~~~~~~~~~~~~~~~~~~~~~~~~~~~~~~~~~~~~~~~~~~~~~~~~~~~~~~~~~~~~~~~~~~~~~~~~~~~~~~~~~~~~~~~~~~~\n",
            "Original: place white in x zero now\n",
            "Prediction: la re t e ao\n",
            "~~~~~~~~~~~~~~~~~~~~~~~~~~~~~~~~~~~~~~~~~~~~~~~~~~~~~~~~~~~~~~~~~~~~~~~~~~~~~~~~~~~~~~~~~~~~~~~~~~~~\n",
            "450/450 [==============================] - 1917s 4s/step - loss: 57.5197 - val_loss: 51.8446 - lr: 1.0000e-04\n",
            "Epoch 8/10\n",
            "1/1 [==============================] - 1s 1s/steps - loss: 54.93\n",
            "Original: set white by c one soon\n",
            "Prediction: la re i e ao\n",
            "~~~~~~~~~~~~~~~~~~~~~~~~~~~~~~~~~~~~~~~~~~~~~~~~~~~~~~~~~~~~~~~~~~~~~~~~~~~~~~~~~~~~~~~~~~~~~~~~~~~~\n",
            "Original: set red by b five soon\n",
            "Prediction: la re i e o\n",
            "~~~~~~~~~~~~~~~~~~~~~~~~~~~~~~~~~~~~~~~~~~~~~~~~~~~~~~~~~~~~~~~~~~~~~~~~~~~~~~~~~~~~~~~~~~~~~~~~~~~~\n",
            "450/450 [==============================] - 1953s 4s/step - loss: 54.9304 - val_loss: 50.7149 - lr: 1.0000e-04\n",
            "Epoch 9/10\n",
            "1/1 [==============================] - 1s 1s/steps - loss: 53.28\n",
            "Original: place white with k four now\n",
            "Prediction: la re t o o\n",
            "~~~~~~~~~~~~~~~~~~~~~~~~~~~~~~~~~~~~~~~~~~~~~~~~~~~~~~~~~~~~~~~~~~~~~~~~~~~~~~~~~~~~~~~~~~~~~~~~~~~~\n",
            "Original: bin blue in f one again\n",
            "Prediction: la re t e an\n",
            "~~~~~~~~~~~~~~~~~~~~~~~~~~~~~~~~~~~~~~~~~~~~~~~~~~~~~~~~~~~~~~~~~~~~~~~~~~~~~~~~~~~~~~~~~~~~~~~~~~~~\n",
            "450/450 [==============================] - 1962s 4s/step - loss: 53.2845 - val_loss: 48.0194 - lr: 1.0000e-04\n",
            "Epoch 10/10\n",
            "1/1 [==============================] - 1s 1s/steps - loss: 51.85\n",
            "Original: bin red with a four please\n",
            "Prediction: pla re i e e an\n",
            "~~~~~~~~~~~~~~~~~~~~~~~~~~~~~~~~~~~~~~~~~~~~~~~~~~~~~~~~~~~~~~~~~~~~~~~~~~~~~~~~~~~~~~~~~~~~~~~~~~~~\n",
            "Original: bin red with n two please\n",
            "Prediction: pla re t e e ae\n",
            "~~~~~~~~~~~~~~~~~~~~~~~~~~~~~~~~~~~~~~~~~~~~~~~~~~~~~~~~~~~~~~~~~~~~~~~~~~~~~~~~~~~~~~~~~~~~~~~~~~~~\n",
            "450/450 [==============================] - 1906s 4s/step - loss: 51.8522 - val_loss: 48.5392 - lr: 1.0000e-04\n"
          ]
        },
        {
          "data": {
            "text/plain": [
              "<keras.src.callbacks.History at 0x192757a9790>"
            ]
          },
          "execution_count": 54,
          "metadata": {},
          "output_type": "execute_result"
        }
      ],
      "source": [
        "model.fit(train, validation_data=test, epochs=10, callbacks=[checkpoint_callback, schedule_callback, example_callback])"
      ]
    },
    {
      "cell_type": "code",
      "execution_count": null,
      "id": "4ecf8674",
      "metadata": {
        "id": "4ecf8674",
        "outputId": "f1c62f03-3b7a-40c5-df47-59972ea2e7b2"
      },
      "outputs": [
        {
          "name": "stdout",
          "output_type": "stream",
          "text": [
            "INFO:tensorflow:Assets written to: ./lipnet\\assets\n"
          ]
        },
        {
          "name": "stderr",
          "output_type": "stream",
          "text": [
            "INFO:tensorflow:Assets written to: ./lipnet\\assets\n"
          ]
        }
      ],
      "source": [
        "model.save(\"./lipnet\")"
      ]
    },
    {
      "cell_type": "markdown",
      "id": "fa8ee94b-89f7-4733-8a0c-a86f86ff590a",
      "metadata": {
        "id": "fa8ee94b-89f7-4733-8a0c-a86f86ff590a"
      },
      "source": [
        "# 5. Make a Prediction"
      ]
    },
    {
      "cell_type": "markdown",
      "source": [
        "Here we loaded the trained model weights from a checkpoint file, and then generates predictions on a sample from the test dataset."
      ],
      "metadata": {
        "id": "BOnpPxDFwvCr"
      },
      "id": "BOnpPxDFwvCr"
    },
    {
      "cell_type": "code",
      "execution_count": 51,
      "id": "01fa7204-ce0e-49a8-8dbd-14fe5dfead40",
      "metadata": {
        "id": "01fa7204-ce0e-49a8-8dbd-14fe5dfead40",
        "colab": {
          "base_uri": "https://localhost:8080/"
        },
        "outputId": "ed1ea1be-0942-4f4e-ac20-da2da1b04c29"
      },
      "outputs": [
        {
          "output_type": "stream",
          "name": "stderr",
          "text": [
            "Downloading...\n",
            "From: https://drive.google.com/uc?id=1vWscXs4Vt0a_1IH1-ct2TCgXAZT-N3_Y\n",
            "To: /content/checkpoints.zip\n",
            "100%|██████████| 94.5M/94.5M [00:01<00:00, 85.1MB/s]\n"
          ]
        },
        {
          "output_type": "execute_result",
          "data": {
            "text/plain": [
              "['models/checkpoint.index',\n",
              " 'models/__MACOSX/._checkpoint.index',\n",
              " 'models/checkpoint.data-00000-of-00001',\n",
              " 'models/__MACOSX/._checkpoint.data-00000-of-00001',\n",
              " 'models/checkpoint',\n",
              " 'models/__MACOSX/._checkpoint']"
            ]
          },
          "metadata": {},
          "execution_count": 51
        }
      ],
      "source": [
        "url = 'https://drive.google.com/uc?id=1vWscXs4Vt0a_1IH1-ct2TCgXAZT-N3_Y'\n",
        "output = 'checkpoints.zip'\n",
        "gdown.download(url, output, quiet=False)\n",
        "gdown.extractall('checkpoints.zip', 'models')"
      ]
    },
    {
      "cell_type": "code",
      "execution_count": 55,
      "id": "247f664d-3c87-4e96-946e-930dad0e1c2c",
      "metadata": {
        "id": "247f664d-3c87-4e96-946e-930dad0e1c2c",
        "colab": {
          "base_uri": "https://localhost:8080/"
        },
        "outputId": "dcad6471-664f-4194-a72a-5ca3b6155113"
      },
      "outputs": [
        {
          "output_type": "execute_result",
          "data": {
            "text/plain": [
              "<tensorflow.python.checkpoint.checkpoint.CheckpointLoadStatus at 0x7ef218883bb0>"
            ]
          },
          "metadata": {},
          "execution_count": 55
        }
      ],
      "source": [
        "model.load_weights('/content/models/checkpoint')"
      ]
    },
    {
      "cell_type": "code",
      "execution_count": 56,
      "id": "7f8d689f-b7bb-443c-9b88-e40c1d800828",
      "metadata": {
        "id": "7f8d689f-b7bb-443c-9b88-e40c1d800828"
      },
      "outputs": [],
      "source": [
        "test_data = test.as_numpy_iterator()"
      ]
    },
    {
      "cell_type": "code",
      "execution_count": 58,
      "id": "38546dc2-bee9-4837-864b-8a884df40ad7",
      "metadata": {
        "id": "38546dc2-bee9-4837-864b-8a884df40ad7"
      },
      "outputs": [],
      "source": [
        "sample = test_data.next()"
      ]
    },
    {
      "cell_type": "code",
      "execution_count": 68,
      "id": "a43621f0-229d-4c0d-9554-9c3a3da9c61a",
      "metadata": {
        "id": "a43621f0-229d-4c0d-9554-9c3a3da9c61a",
        "outputId": "6f27e9e0-2f1d-4bab-dcf2-ceeffd38044e",
        "colab": {
          "base_uri": "https://localhost:8080/"
        }
      },
      "outputs": [
        {
          "output_type": "stream",
          "name": "stdout",
          "text": [
            "1/1 [==============================] - 14s 14s/step\n"
          ]
        }
      ],
      "source": [
        "yhat = model.predict(sample[0])"
      ]
    },
    {
      "cell_type": "markdown",
      "source": [
        "It decoded the predictions using CTC decoding and printed the real text along with the corresponding predicted text for evaluation as seen below."
      ],
      "metadata": {
        "id": "rCqS5JP2wzDm"
      },
      "id": "rCqS5JP2wzDm"
    },
    {
      "cell_type": "code",
      "execution_count": 69,
      "id": "ea462999-f87e-4a7e-a057-5be7b6d8f7d5",
      "metadata": {
        "id": "ea462999-f87e-4a7e-a057-5be7b6d8f7d5",
        "outputId": "5017f29c-0c3b-4d91-ff96-986e087869b9",
        "colab": {
          "base_uri": "https://localhost:8080/"
        }
      },
      "outputs": [
        {
          "output_type": "stream",
          "name": "stdout",
          "text": [
            "~~~~~~~~~~~~~~~~~~~~~~~~~~~~~~~~~~~~~~~~~~~~~~~~~~~~~~~~~~~~~~~~~~~~~~~~~~~~~~~~~~~~~~~~~~~~~~~~~~~~ REAL TEXT\n"
          ]
        },
        {
          "output_type": "execute_result",
          "data": {
            "text/plain": [
              "[<tf.Tensor: shape=(), dtype=string, numpy=b'lay white by l seven soon'>,\n",
              " <tf.Tensor: shape=(), dtype=string, numpy=b'lay red by l three again'>]"
            ]
          },
          "metadata": {},
          "execution_count": 69
        }
      ],
      "source": [
        "print('~'*100, 'REAL TEXT')\n",
        "[tf.strings.reduce_join([num_to_char(word) for word in sentence]) for sentence in sample[1]]"
      ]
    },
    {
      "cell_type": "code",
      "execution_count": 70,
      "id": "82bd4c10-dd6e-411e-834b-2a3b43fd12c5",
      "metadata": {
        "id": "82bd4c10-dd6e-411e-834b-2a3b43fd12c5"
      },
      "outputs": [],
      "source": [
        "decoded = tf.keras.backend.ctc_decode(yhat, input_length=[75,75], greedy=True)[0][0].numpy()"
      ]
    },
    {
      "cell_type": "code",
      "execution_count": 71,
      "id": "5d68ac46-c90b-4eab-a709-f19aee569ff5",
      "metadata": {
        "id": "5d68ac46-c90b-4eab-a709-f19aee569ff5",
        "outputId": "007bea31-88ff-433e-b360-5819b4161175",
        "colab": {
          "base_uri": "https://localhost:8080/"
        }
      },
      "outputs": [
        {
          "output_type": "stream",
          "name": "stdout",
          "text": [
            "~~~~~~~~~~~~~~~~~~~~~~~~~~~~~~~~~~~~~~~~~~~~~~~~~~~~~~~~~~~~~~~~~~~~~~~~~~~~~~~~~~~~~~~~~~~~~~~~~~~~ PREDICTIONS\n"
          ]
        },
        {
          "output_type": "execute_result",
          "data": {
            "text/plain": [
              "[<tf.Tensor: shape=(), dtype=string, numpy=b'lay white by l seven soon'>,\n",
              " <tf.Tensor: shape=(), dtype=string, numpy=b'lay red by l three again'>]"
            ]
          },
          "metadata": {},
          "execution_count": 71
        }
      ],
      "source": [
        "print('~'*100, 'PREDICTIONS')\n",
        "[tf.strings.reduce_join([num_to_char(word) for word in sentence]) for sentence in decoded]"
      ]
    },
    {
      "cell_type": "markdown",
      "id": "64622f98-e99b-4fed-a2cc-f0da82eb5431",
      "metadata": {
        "id": "64622f98-e99b-4fed-a2cc-f0da82eb5431"
      },
      "source": [
        "# Test on a Video"
      ]
    },
    {
      "cell_type": "markdown",
      "source": [
        "The data is tested using a random video file from the input data. As we can below:\n",
        "- the real text is getting an output of \"bin blue at f three soon\"\n",
        "&\n",
        "\n",
        "- the predicted sentence is \"bin blue at j three soon\".\n",
        "\n",
        "As we are training with just 10 epochs there is a mistake in predicted output but most of the sentence in the lipreading is similar. thus the Lipnet model here is predicting the sentences just by lipreading almost similar to original text."
      ],
      "metadata": {
        "id": "uh-4iLuAw5tH"
      },
      "id": "uh-4iLuAw5tH"
    },
    {
      "cell_type": "code",
      "execution_count": 73,
      "id": "a8b0c4d0-2031-4331-b91d-d87b1ae6f6e2",
      "metadata": {
        "id": "a8b0c4d0-2031-4331-b91d-d87b1ae6f6e2"
      },
      "outputs": [],
      "source": [
        "sample = load_data(tf.convert_to_tensor('/content/data/s1/bbaf2n.mpg'))"
      ]
    },
    {
      "cell_type": "code",
      "execution_count": 74,
      "id": "0cca60e4-47a9-4683-8a75-48f4684f723d",
      "metadata": {
        "id": "0cca60e4-47a9-4683-8a75-48f4684f723d",
        "outputId": "4a387fb8-94ba-4170-e2a2-0b4a8fb4a793",
        "colab": {
          "base_uri": "https://localhost:8080/"
        }
      },
      "outputs": [
        {
          "output_type": "stream",
          "name": "stdout",
          "text": [
            "~~~~~~~~~~~~~~~~~~~~~~~~~~~~~~~~~~~~~~~~~~~~~~~~~~~~~~~~~~~~~~~~~~~~~~~~~~~~~~~~~~~~~~~~~~~~~~~~~~~~ REAL TEXT\n"
          ]
        },
        {
          "output_type": "execute_result",
          "data": {
            "text/plain": [
              "[<tf.Tensor: shape=(), dtype=string, numpy=b'bin blue at f two now'>]"
            ]
          },
          "metadata": {},
          "execution_count": 74
        }
      ],
      "source": [
        "print('~'*100, 'REAL TEXT')\n",
        "[tf.strings.reduce_join([num_to_char(word) for word in sentence]) for sentence in [sample[1]]]"
      ]
    },
    {
      "cell_type": "code",
      "execution_count": 75,
      "id": "8cc5037c-1e32-435c-b0cc-01e1fb3b863c",
      "metadata": {
        "id": "8cc5037c-1e32-435c-b0cc-01e1fb3b863c",
        "outputId": "1a97ccd8-5190-4238-fd2c-f759ee1a3126",
        "colab": {
          "base_uri": "https://localhost:8080/"
        }
      },
      "outputs": [
        {
          "output_type": "stream",
          "name": "stdout",
          "text": [
            "1/1 [==============================] - 6s 6s/step\n"
          ]
        }
      ],
      "source": [
        "yhat = model.predict(tf.expand_dims(sample[0], axis=0))"
      ]
    },
    {
      "cell_type": "code",
      "execution_count": 76,
      "id": "22c4f77d-715d-409f-bc5e-3ebe48704e8f",
      "metadata": {
        "id": "22c4f77d-715d-409f-bc5e-3ebe48704e8f"
      },
      "outputs": [],
      "source": [
        "decoded = tf.keras.backend.ctc_decode(yhat, input_length=[75], greedy=True)[0][0].numpy()"
      ]
    },
    {
      "cell_type": "code",
      "execution_count": 77,
      "id": "e4d12ecc-b634-499e-a4bc-db9f010835fb",
      "metadata": {
        "id": "e4d12ecc-b634-499e-a4bc-db9f010835fb",
        "outputId": "5f403690-88ba-46ae-e278-3074618e2264",
        "colab": {
          "base_uri": "https://localhost:8080/"
        }
      },
      "outputs": [
        {
          "output_type": "stream",
          "name": "stdout",
          "text": [
            "~~~~~~~~~~~~~~~~~~~~~~~~~~~~~~~~~~~~~~~~~~~~~~~~~~~~~~~~~~~~~~~~~~~~~~~~~~~~~~~~~~~~~~~~~~~~~~~~~~~~ PREDICTIONS\n"
          ]
        },
        {
          "output_type": "execute_result",
          "data": {
            "text/plain": [
              "[<tf.Tensor: shape=(), dtype=string, numpy=b'bin blue at f two now'>]"
            ]
          },
          "metadata": {},
          "execution_count": 77
        }
      ],
      "source": [
        "print('~'*100, 'PREDICTIONS')\n",
        "[tf.strings.reduce_join([num_to_char(word) for word in sentence]) for sentence in decoded]"
      ]
    },
    {
      "cell_type": "code",
      "execution_count": null,
      "id": "551dfea2-de6b-4400-b71a-a17631529e3f",
      "metadata": {
        "id": "551dfea2-de6b-4400-b71a-a17631529e3f"
      },
      "outputs": [],
      "source": []
    }
  ],
  "metadata": {
    "colab": {
      "provenance": []
    },
    "kernelspec": {
      "display_name": "Python 3 (ipykernel)",
      "language": "python",
      "name": "python3"
    },
    "language_info": {
      "codemirror_mode": {
        "name": "ipython",
        "version": 3
      },
      "file_extension": ".py",
      "mimetype": "text/x-python",
      "name": "python",
      "nbconvert_exporter": "python",
      "pygments_lexer": "ipython3",
      "version": "3.11.5"
    }
  },
  "nbformat": 4,
  "nbformat_minor": 5
}